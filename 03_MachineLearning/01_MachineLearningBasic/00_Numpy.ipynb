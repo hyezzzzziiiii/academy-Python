{
 "cells": [
  {
   "cell_type": "markdown",
   "metadata": {},
   "source": [
    "#### Numpy ndarray\n",
    "* 판다스가 데이터 프레임을 기반으로한 데이터가공과 분석에 관한 모듈이라면, 넘파이는 수학적 연산 및 처리 도구들을 제공하는 모듈입니다\n",
    "* 판다스와 넘파이 둘을 데이터 분석과 머신러닝 분야에서 없어서는 안될 중요모듈로 사용하고 있습니다"
   ]
  },
  {
   "cell_type": "markdown",
   "metadata": {},
   "source": [
    "##### ndarray 생성,  np.array()"
   ]
  },
  {
   "cell_type": "code",
   "execution_count": 1,
   "metadata": {},
   "outputs": [],
   "source": [
    "import numpy as np"
   ]
  },
  {
   "cell_type": "code",
   "execution_count": 2,
   "metadata": {},
   "outputs": [
    {
     "name": "stdout",
     "output_type": "stream",
     "text": [
      "list1: [1, 2, 3]\n",
      "list1 type: <class 'list'>\n"
     ]
    }
   ],
   "source": [
    "# 일반적 리스트의 사용, 데이터형 출력\n",
    "list1 = [1, 2, 3]\n",
    "print(\"list1:\",list1)\n",
    "print(\"list1 type:\",type(list1))"
   ]
  },
  {
   "cell_type": "code",
   "execution_count": 3,
   "metadata": {},
   "outputs": [
    {
     "name": "stdout",
     "output_type": "stream",
     "text": [
      "array1: [1 2 3]\n",
      "array1 type: <class 'numpy.ndarray'>\n"
     ]
    }
   ],
   "source": [
    "# 사용하던 리스트 데이터를 ndarray 로 쉽게 변형하여 사용이 가능합니다\n",
    "array1 = np.array(list1)\n",
    "print(\"array1:\",array1)\n",
    "print(\"array1 type:\", type(array1))"
   ]
  },
  {
   "cell_type": "markdown",
   "metadata": {},
   "source": [
    "* ndarray 의 형태(shape)와 차원"
   ]
  },
  {
   "cell_type": "code",
   "execution_count": 10,
   "metadata": {},
   "outputs": [
    {
     "name": "stdout",
     "output_type": "stream",
     "text": [
      "[1 2 3]\n",
      "array1 type: <class 'numpy.ndarray'>\n",
      "array1 array 형태: (3,)\n"
     ]
    }
   ],
   "source": [
    " # 1차원 배열\n",
    "array1 = np.array([1,2,3])  \n",
    "print(array1)\n",
    "print('array1 type:',type(array1))\n",
    "print('array1 array 형태:',array1.shape) \n",
    "# shpae : 행의 갯수와 열의 갯수를 표현해주는 ndarray 속성입니다.\n",
    "#  현재는 1차원 배열을 사용하고 있으므로 열의 갯수는 공란으로 표현됩니다"
   ]
  },
  {
   "cell_type": "code",
   "execution_count": 8,
   "metadata": {},
   "outputs": [
    {
     "name": "stdout",
     "output_type": "stream",
     "text": [
      "[[1 2 3]\n",
      " [2 3 4]]\n",
      "array2 type: <class 'numpy.ndarray'>\n",
      "array2 array 형태: (2, 3)\n"
     ]
    }
   ],
   "source": [
    "# 2차원 리스트와 형태가 비슷한 2차원 ndarray\n",
    "array2 = np.array([[1,2,3],[2,3,4]])\n",
    "print(array2)\n",
    "print('array2 type:',type(array2))\n",
    "print('array2 array 형태:',array2.shape)"
   ]
  },
  {
   "cell_type": "code",
   "execution_count": 12,
   "metadata": {},
   "outputs": [
    {
     "name": "stdout",
     "output_type": "stream",
     "text": [
      "[[1 2 3]]\n",
      "array3 type: <class 'numpy.ndarray'>\n",
      "array3 array 형태: (1, 3)\n"
     ]
    }
   ],
   "source": [
    "array3 = np.array([[1,2,3]])\n",
    "print(array3)\n",
    "print('array3 type:',type(array3))\n",
    "print('array3 array 형태:',array3.shape)"
   ]
  },
  {
   "cell_type": "code",
   "execution_count": 13,
   "metadata": {},
   "outputs": [
    {
     "name": "stdout",
     "output_type": "stream",
     "text": [
      "[[1]\n",
      " [2]\n",
      " [3]]\n",
      "array3 type: <class 'numpy.ndarray'>\n",
      "array3 array 형태: (3, 1)\n"
     ]
    }
   ],
   "source": [
    "array3_ = np.array([[1],[2],[3]])\n",
    "print(array3_)\n",
    "print('array3 type:',type(array3_))\n",
    "print('array3 array 형태:',array3_.shape)"
   ]
  },
  {
   "cell_type": "code",
   "execution_count": 14,
   "metadata": {},
   "outputs": [
    {
     "name": "stdout",
     "output_type": "stream",
     "text": [
      "[[1 2]\n",
      " [3 4]\n",
      " [5 6]]\n"
     ]
    }
   ],
   "source": [
    "array4 = np.array([[1,2],[3,4],[5,6]])\n",
    "print(array4)"
   ]
  },
  {
   "cell_type": "code",
   "execution_count": 15,
   "metadata": {},
   "outputs": [
    {
     "name": "stdout",
     "output_type": "stream",
     "text": [
      "array1:1차원, array2:2차원, array3:2차원\n"
     ]
    }
   ],
   "source": [
    "# .ndim : ndarray 의 차원 구성(shape 차수값)을 저장하고 있는 속성\n",
    "print('array1:{0}차원, array2:{1}차원, array3:{2}차원'.format( \\\n",
    "                            array1.ndim, array2.ndim, array3.ndim ))"
   ]
  },
  {
   "cell_type": "code",
   "execution_count": 17,
   "metadata": {},
   "outputs": [
    {
     "name": "stdout",
     "output_type": "stream",
     "text": [
      "차원값 :  3\n",
      "모양(shape) :  (3, 2, 2)\n",
      "[[[ 1  2]\n",
      "  [ 3  4]]\n",
      "\n",
      " [[ 5  6]\n",
      "  [ 7  8]]\n",
      "\n",
      " [[ 9 10]\n",
      "  [11 12]]]\n"
     ]
    }
   ],
   "source": [
    "# 3 차원 ndarray : 아래 배열은 2행 2열 짜리 배열이 3개 있는 모양\n",
    "array0 = np.array([  [[1,2],[3,4]],  [[5,6],[7,8]],  [[9,10],[11,12]]  ])\n",
    "print(\"차원값 : \" , array0.ndim)\n",
    "print(\"모양(shape) : \", array0.shape)\n",
    "print(array0)"
   ]
  },
  {
   "cell_type": "code",
   "execution_count": 19,
   "metadata": {},
   "outputs": [
    {
     "name": "stdout",
     "output_type": "stream",
     "text": [
      "<class 'numpy.ndarray'>\n",
      "[1 2 3] int32\n"
     ]
    }
   ],
   "source": [
    "array1 = np.array(list1)\n",
    "print(type(array1))\n",
    "# 배열을 구성하는 데이터들의 타입을 dtype 으로 얻을수 있습니다\n",
    "print(array1, array1.dtype)"
   ]
  },
  {
   "cell_type": "code",
   "execution_count": 18,
   "metadata": {},
   "outputs": [
    {
     "name": "stdout",
     "output_type": "stream",
     "text": [
      "배열의 값 ['1' '2' 'test']    배열의 데이터 타입 <U11\n"
     ]
    }
   ],
   "source": [
    "list2 = [1, 2, 'test']\n",
    "array2 = np.array(list2)\n",
    "print('배열의 값',array2, '   배열의 데이터 타입', array2.dtype)\n",
    "# .dtype 이 갖는 값은 ndarray 구성에 따라 달라집니다\n",
    "# 정수형 + 문자형 : <U11\n",
    "# 정수형 + 실수형 + 문자형 : <U32\n",
    "# 문자형 : <U2"
   ]
  },
  {
   "cell_type": "code",
   "execution_count": 20,
   "metadata": {},
   "outputs": [
    {
     "name": "stdout",
     "output_type": "stream",
     "text": [
      "배열의 값 [1. 2. 3.]    배열의 데이터 타입 float64\n"
     ]
    }
   ],
   "source": [
    "# 정수형 + 실수형 : float64    \n",
    "# 정수와 실수가 array 에 석이면 모든 데이터가 실수로 변환\n",
    "list3 = [1, 2, 3.0]\n",
    "array3 = np.array(list3)\n",
    "print('배열의 값',array3, '   배열의 데이터 타입', array3.dtype)"
   ]
  },
  {
   "cell_type": "markdown",
   "metadata": {},
   "source": [
    "##### astype()을 통한 타입 변환"
   ]
  },
  {
   "cell_type": "code",
   "execution_count": 21,
   "metadata": {},
   "outputs": [
    {
     "name": "stdout",
     "output_type": "stream",
     "text": [
      "배열의 값 [1. 2. 3.]    배열의 데이터 타입 float64\n"
     ]
    }
   ],
   "source": [
    "# 정수-> 실수\n",
    "array_int = np.array([1, 2, 3])\n",
    "array_float = array_int.astype('float64')\n",
    "print('배열의 값',array_float,'   배열의 데이터 타입', array_float.dtype)"
   ]
  },
  {
   "cell_type": "code",
   "execution_count": 23,
   "metadata": {},
   "outputs": [
    {
     "name": "stdout",
     "output_type": "stream",
     "text": [
      "실수->정수 : 배열의 값 [1 2 3] \t배열의 데이터 타입 int32\n",
      "정수->문자 : ['1' '2' '3'] <U11\n",
      "실수->문자 :  ['1.1' '2.1' '3.9'] <U32\n",
      "문자->정수 :  [1 2 3] int32\n",
      "문자->실수 :  [1.1 2.1 3.9] float64\n"
     ]
    }
   ],
   "source": [
    "# 실수->정수\n",
    "array_float1 = np.array([1.1, 2.1, 3.9])\n",
    "array_int2= array_float1.astype('int32')\n",
    "print('실수->정수 : 배열의 값',array_int2,'\\t배열의 데이터 타입',array_int2.dtype)\n",
    "\n",
    "# 정수->문자\n",
    "array_str1 = array_int.astype('str')\n",
    "print('정수->문자 :' , array_str1, array_str1.dtype)\n",
    "\n",
    "# 실수->문자\n",
    "array_str2= array_float1.astype('str')\n",
    "print('실수->문자 : ' , array_str2, array_str2.dtype)\n",
    "\n",
    "# 문자->정수\n",
    "array_int3 = array_str1.astype('int32')\n",
    "print('문자->정수 : ' , array_int3, array_int3.dtype)\n",
    "\n",
    "# 문자->실수\n",
    "array_float3 = array_str2.astype('float64')\n",
    "print('문자->실수 : ' , array_float3, array_float3.dtype)\n",
    "\n",
    "# U11, U32 : 유니 코드로 사용되는 문자열 자료형"
   ]
  },
  {
   "cell_type": "markdown",
   "metadata": {},
   "source": [
    "##### ndarray에서 axis 기반의 연산함수 수행"
   ]
  },
  {
   "cell_type": "code",
   "execution_count": 25,
   "metadata": {},
   "outputs": [
    {
     "name": "stdout",
     "output_type": "stream",
     "text": [
      "[[1 2 3]\n",
      " [2 3 4]]\n",
      "15\n",
      "[3 5 7]\n",
      "[6 9]\n"
     ]
    }
   ],
   "source": [
    "# aixs = 0 은 행단위의 작업( 알고 잇는 것과는 반대개념으로 세로 연산)\n",
    "# aixs = 1 은 열단위의 작업( 알고 있는 것과는 반대개념으로 가로 연산)\n",
    "array2 = np.array([[1,2,3],[2,3,4]])\n",
    "print(array2)\n",
    "print(array2.sum())\n",
    "print(array2.sum(axis=0))  # 같은 열의 데이터 합계 (결과 : 세개의 값)\n",
    "print(array2.sum(axis=1))  # 같은 행의 데이터 합계 (결과 : 두개의 값의 값)"
   ]
  },
  {
   "cell_type": "markdown",
   "metadata": {},
   "source": [
    "##### ndarray를 편리하게 생성하기 - arange, zeros, ones"
   ]
  },
  {
   "cell_type": "code",
   "execution_count": 28,
   "metadata": {},
   "outputs": [
    {
     "name": "stdout",
     "output_type": "stream",
     "text": [
      "[0 2 4 6 8]\n",
      "int32 (5,)\n"
     ]
    }
   ],
   "source": [
    "# 우리가 알고 있는 range 함수와 거의 비슷한 arange 를 이용한 숫자 발생으로 \n",
    "# ndarray 생성\n",
    "# 아래는 0~10 사이의 짝수 발생(10 제외제외)\n",
    "sequence_array = np.arange(0,10,2)\n",
    "print(sequence_array)\n",
    "print(sequence_array.dtype, sequence_array.shape)"
   ]
  },
  {
   "cell_type": "code",
   "execution_count": 29,
   "metadata": {},
   "outputs": [
    {
     "name": "stdout",
     "output_type": "stream",
     "text": [
      "[[0 0]\n",
      " [0 0]\n",
      " [0 0]]\n",
      "int32 (3, 2)\n",
      "[[1. 1.]\n",
      " [1. 1.]\n",
      " [1. 1.]]\n",
      "float64 (3, 2)\n"
     ]
    }
   ],
   "source": [
    "# zeros : 0 들 , ones : 1 들\n",
    "# zeros(3,2) : 3행 2열짜리 0들을 발생\n",
    "# ones(3,2) : 3행 2열짜리 1들을 발생\n",
    "zero_array = np.zeros((3,2),dtype='int32')\n",
    "print(zero_array)\n",
    "print(zero_array.dtype, zero_array.shape)\n",
    "\n",
    "one_array = np.ones((3,2))\n",
    "print(one_array)\n",
    "print(one_array.dtype, one_array.shape)"
   ]
  },
  {
   "cell_type": "markdown",
   "metadata": {},
   "source": [
    "##### ndarray의 shape를 변경하는 reshape()"
   ]
  },
  {
   "cell_type": "code",
   "execution_count": 30,
   "metadata": {},
   "outputs": [
    {
     "name": "stdout",
     "output_type": "stream",
     "text": [
      "array1:\n",
      " [0 1 2 3 4 5 6 7 8 9]\n",
      "array2:\n",
      " [[0 1 2 3 4]\n",
      " [5 6 7 8 9]]\n",
      "array3:\n",
      " [[0 1]\n",
      " [2 3]\n",
      " [4 5]\n",
      " [6 7]\n",
      " [8 9]]\n"
     ]
    }
   ],
   "source": [
    "array1 = np.arange(10)\n",
    "print('array1:\\n', array1)\n",
    "\n",
    "# 배열의 요소 갯수가 유효하게 분재 될수 있는 구조로 행열을 조절 할 수 있다\n",
    "array2 = array1.reshape(2,5)\n",
    "print('array2:\\n',array2)\n",
    "\n",
    "array3 = array1.reshape(5,2)\n",
    "print('array3:\\n',array3)"
   ]
  },
  {
   "cell_type": "code",
   "execution_count": 32,
   "metadata": {},
   "outputs": [
    {
     "ename": "ValueError",
     "evalue": "cannot reshape array of size 10 into shape (4,3)",
     "output_type": "error",
     "traceback": [
      "\u001b[1;31m---------------------------------------------------------------------------\u001b[0m",
      "\u001b[1;31mValueError\u001b[0m                                Traceback (most recent call last)",
      "\u001b[1;32m<ipython-input-32-2ff703983fd4>\u001b[0m in \u001b[0;36m<module>\u001b[1;34m\u001b[0m\n\u001b[0;32m      1\u001b[0m \u001b[1;31m# 변환할 수 없는 shape구조를 입력하면 오류 발생.\u001b[0m\u001b[1;33m\u001b[0m\u001b[1;33m\u001b[0m\u001b[1;33m\u001b[0m\u001b[0m\n\u001b[1;32m----> 2\u001b[1;33m \u001b[0marray1\u001b[0m\u001b[1;33m.\u001b[0m\u001b[0mreshape\u001b[0m\u001b[1;33m(\u001b[0m\u001b[1;36m4\u001b[0m\u001b[1;33m,\u001b[0m\u001b[1;36m3\u001b[0m\u001b[1;33m)\u001b[0m\u001b[1;33m\u001b[0m\u001b[1;33m\u001b[0m\u001b[0m\n\u001b[0m",
      "\u001b[1;31mValueError\u001b[0m: cannot reshape array of size 10 into shape (4,3)"
     ]
    }
   ],
   "source": [
    "# 변환할 수 없는 shape구조를 입력하면 오류 발생.\n",
    "array1.reshape(4,3)"
   ]
  },
  {
   "cell_type": "markdown",
   "metadata": {},
   "source": [
    "##### reshape()에 -1 인자값을 부여하여 특정 차원으로 고정된 가변적인 ndarray형태 변환"
   ]
  },
  {
   "cell_type": "code",
   "execution_count": 35,
   "metadata": {},
   "outputs": [
    {
     "name": "stdout",
     "output_type": "stream",
     "text": [
      "[0 1 2 3 4 5 6 7 8 9]\n",
      "array2 shape: (2, 5)\n",
      "array2:\n",
      " [[0 1 2 3 4]\n",
      " [5 6 7 8 9]]\n",
      "array3 shape: (5, 2)\n",
      "array3:\n",
      " [[0 1]\n",
      " [2 3]\n",
      " [4 5]\n",
      " [6 7]\n",
      " [8 9]]\n",
      "array4 shape: (20, 5)\n",
      "array4:\n",
      " [[ 0  1  2  3  4]\n",
      " [ 5  6  7  8  9]\n",
      " [10 11 12 13 14]\n",
      " [15 16 17 18 19]\n",
      " [20 21 22 23 24]\n",
      " [25 26 27 28 29]\n",
      " [30 31 32 33 34]\n",
      " [35 36 37 38 39]\n",
      " [40 41 42 43 44]\n",
      " [45 46 47 48 49]\n",
      " [50 51 52 53 54]\n",
      " [55 56 57 58 59]\n",
      " [60 61 62 63 64]\n",
      " [65 66 67 68 69]\n",
      " [70 71 72 73 74]\n",
      " [75 76 77 78 79]\n",
      " [80 81 82 83 84]\n",
      " [85 86 87 88 89]\n",
      " [90 91 92 93 94]\n",
      " [95 96 97 98 99]]\n"
     ]
    }
   ],
   "source": [
    "array1 = np.arange(10)\n",
    "print(array1)\n",
    "#열의 크기는 5에 고정하고 행의 크기를 이에 맞춰 자동으로 변환. 즉 2x5 형태로 변환 \n",
    "array2 = array1.reshape(-1,5)\n",
    "print('array2 shape:',array2.shape)\n",
    "print('array2:\\n', array2)\n",
    "#로우 axis 크기는 5로 고정하고 컬럼 axis크기는 이에 맞춰 자동으로 변환. \n",
    "# 즉 5x2 형태로 변환 \n",
    "array3 = array1.reshape(5,-1)\n",
    "print('array3 shape:',array3.shape)\n",
    "print('array3:\\n', array3)\n",
    "# reshape 의 행열중 한쪽이 변수의 값에  의존해서 결정이 될때 사용\n",
    "n=20\n",
    "array1 = np.arange(100)\n",
    "array4 = array1.reshape(n,-1)\n",
    "print('array4 shape:', array4.shape)\n",
    "print('array4:\\n', array4)"
   ]
  },
  {
   "cell_type": "code",
   "execution_count": 37,
   "metadata": {},
   "outputs": [
    {
     "name": "stdout",
     "output_type": "stream",
     "text": [
      "array2d_1 shape: (5, 1)\n",
      "array2d_1:\n",
      " [[0]\n",
      " [1]\n",
      " [2]\n",
      " [3]\n",
      " [4]]\n",
      "array1d shape: (5,)\n",
      "array1d:\n",
      " [0 1 2 3 4]\n"
     ]
    }
   ],
   "source": [
    "# reshape()는 (-1, 1), (-1,)와 같은 형태로 주로 사용됨.\n",
    "\n",
    "# (-1, 1) : 1차원 ndarray를 2차원으로 또는 2차원 ndarray를 1차원으로 변환 시 사용. \n",
    "array1 = np.arange(5)\n",
    "# 1차원 ndarray를 2차원으로 변환하되, 열의 크기는 반드시 1이여야 함. \n",
    "array2d_1 = array1.reshape(-1, 1)\n",
    "print(\"array2d_1 shape:\", array2d_1.shape)\n",
    "print(\"array2d_1:\\n\",array2d_1)\n",
    "\n",
    "# (-1,) : 2차원 ndarray를 1차원으로 변환 \n",
    "array1d = array2d_1.reshape(-1, )\n",
    "print(\"array1d shape:\", array1d.shape)\n",
    "print(\"array1d:\\n\",array1d)"
   ]
  },
  {
   "cell_type": "code",
   "execution_count": null,
   "metadata": {},
   "outputs": [],
   "source": [
    "# -1 을 적용하여도 변환이 불가능한 형태로의 변환을 요구할 경우 오류 발생. \n",
    "array1 = np.arange(10)\n",
    "array4 = array1.reshape(-1,4)    #  - 에러\n",
    "# 반드시 -1 값은 1개의 인자만 입력해야 함. \n",
    "array1.reshape(-1, -1)   #  - 에러"
   ]
  },
  {
   "cell_type": "markdown",
   "metadata": {},
   "source": [
    "##### ndarray의 데이터 세트 선택하기 – 인덱싱(Indexing)\n",
    "* 특정 위치의 단일값 추출"
   ]
  },
  {
   "cell_type": "code",
   "execution_count": 39,
   "metadata": {},
   "outputs": [
    {
     "name": "stdout",
     "output_type": "stream",
     "text": [
      "array1: [1 2 3 4 5 6 7 8 9]\n",
      "value: 3\n",
      "<class 'numpy.int32'>\n",
      "맨 뒤의 값: 9 , 맨 뒤에서 두번째 값: 8\n"
     ]
    }
   ],
   "source": [
    "# 1에서 부터 9 까지의 1차원 ndarray 생성 \n",
    "array1 = np.arange(start=1, stop=10)\n",
    "print('array1:',array1)\n",
    "\n",
    "# index는 0 부터 시작하므로 array1[2]는 3번째 index 위치의 데이터 값을 의미\n",
    "value = array1[2]\n",
    "print('value:',value)\n",
    "print(type(value))\n",
    "print('맨 뒤의 값:',array1[-1], ', 맨 뒤에서 두번째 값:',array1[-2])"
   ]
  },
  {
   "cell_type": "code",
   "execution_count": 40,
   "metadata": {},
   "outputs": [
    {
     "name": "stdout",
     "output_type": "stream",
     "text": [
      "[[1 2 3]\n",
      " [4 5 6]\n",
      " [7 8 9]]\n",
      "(row=0,col=0) index 가리키는 값: 1\n",
      "(row=0,col=1) index 가리키는 값: 2\n",
      "(row=1,col=0) index 가리키는 값: 4\n",
      "(row=2,col=2) index 가리키는 값: 9\n"
     ]
    }
   ],
   "source": [
    "array1d = np.arange(start=1, stop=10)\n",
    "array2d = array1d.reshape(3,3)\n",
    "print(array2d)\n",
    "print('(row=0,col=0) index 가리키는 값:', array2d[0,0] )\n",
    "print('(row=0,col=1) index 가리키는 값:', array2d[0,1] )\n",
    "print('(row=1,col=0) index 가리키는 값:', array2d[1,0] )\n",
    "print('(row=2,col=2) index 가리키는 값:', array2d[2,2] )"
   ]
  },
  {
   "cell_type": "markdown",
   "metadata": {},
   "source": [
    "##### 슬라이싱"
   ]
  },
  {
   "cell_type": "code",
   "execution_count": 41,
   "metadata": {},
   "outputs": [
    {
     "name": "stdout",
     "output_type": "stream",
     "text": [
      "[1 2 3 4 5 6 7 8 9]\n",
      "[1 2 3]\n",
      "<class 'numpy.ndarray'>\n",
      "[1 2 3]\n",
      "[4 5 6 7 8 9]\n",
      "[1 2 3 4 5 6 7 8 9]\n"
     ]
    }
   ],
   "source": [
    "array1 = np.arange(start=1, stop=10)\n",
    "print(array1)\n",
    "array3 = array1[0:3]\n",
    "print(array3)\n",
    "print(type(array3))\n",
    "array4 = array1[:3]\n",
    "print(array4)\n",
    "array5 = array1[3:]\n",
    "print(array5)\n",
    "array6 = array1[:]\n",
    "print(array6)"
   ]
  },
  {
   "cell_type": "code",
   "execution_count": 42,
   "metadata": {},
   "outputs": [
    {
     "name": "stdout",
     "output_type": "stream",
     "text": [
      "array2d:\n",
      " [[1 2 3]\n",
      " [4 5 6]\n",
      " [7 8 9]]\n",
      "array2d[0:2, 0:2] \n",
      " [[1 2]\n",
      " [4 5]]\n",
      "array2d[1:3, 0:3] \n",
      " [[4 5 6]\n",
      " [7 8 9]]\n",
      "array2d[1:3, :] \n",
      " [[4 5 6]\n",
      " [7 8 9]]\n",
      "array2d[:, :] \n",
      " [[1 2 3]\n",
      " [4 5 6]\n",
      " [7 8 9]]\n",
      "array2d[:2, 1:] \n",
      " [[2 3]\n",
      " [5 6]]\n",
      "array2d[:2, 0] \n",
      " [1 4]\n"
     ]
    }
   ],
   "source": [
    "array1d = np.arange(start=1, stop=10)\n",
    "array2d = array1d.reshape(3,3)\n",
    "print('array2d:\\n',array2d)\n",
    "\n",
    "print('array2d[0:2, 0:2] \\n', array2d[0:2, 0:2])\n",
    "print('array2d[1:3, 0:3] \\n', array2d[1:3, 0:3])\n",
    "print('array2d[1:3, :] \\n', array2d[1:3, :])\n",
    "print('array2d[:, :] \\n', array2d[:, :])\n",
    "print('array2d[:2, 1:] \\n', array2d[:2, 1:])\n",
    "print('array2d[:2, 0] \\n', array2d[:2, 0])"
   ]
  },
  {
   "cell_type": "code",
   "execution_count": 43,
   "metadata": {},
   "outputs": [
    {
     "name": "stdout",
     "output_type": "stream",
     "text": [
      "[[1 2 3]\n",
      " [4 5 6]\n",
      " [7 8 9]]\n",
      "array3\n",
      " [3 6]\n",
      "array2d[[0,1], 2] =>  [3, 6]\n",
      "array4\n",
      " [[1 2]\n",
      " [7 8]]\n",
      "array2d[[0,2], 0:2] =>  [[1, 2], [7, 8]]\n",
      "array5\n",
      " [[1 2 3]\n",
      " [4 5 6]]\n",
      "array2d[[0,1]] =>  [[1, 2, 3], [4, 5, 6]]\n"
     ]
    }
   ],
   "source": [
    "array1d = np.arange(start=1, stop=10)\n",
    "array2d = array1d.reshape(3,3)\n",
    "print(array2d)\n",
    "\n",
    "array3 = array2d[[0,1], 2]\n",
    "print('array3\\n', array3)\n",
    "print('array2d[[0,1], 2] => ',array3.tolist())\n",
    "\n",
    "array4 = array2d[[0,2], 0:2]\n",
    "print('array4\\n', array4)\n",
    "print('array2d[[0,2], 0:2] => ',array4.tolist())\n",
    "\n",
    "array5 = array2d[[0,1]]   #array5 = array2d[[0,1], :]\n",
    "print('array5\\n', array5)\n",
    "print('array2d[[0,1]] => ',array5.tolist())"
   ]
  },
  {
   "cell_type": "markdown",
   "metadata": {},
   "source": [
    "##### 불린 인덱싱(Boolean indexing)"
   ]
  },
  {
   "cell_type": "code",
   "execution_count": 44,
   "metadata": {},
   "outputs": [
    {
     "name": "stdout",
     "output_type": "stream",
     "text": [
      "[1 2 3 4 5 6 7 8 9]\n",
      "[False False False False False  True  True  True  True]\n",
      "var1: [False False False False False  True  True  True  True]\n",
      "<class 'numpy.ndarray'>\n",
      "bool\n",
      "array1d > 5 불린 인덱싱 결과 값 : [6 7 8 9]\n"
     ]
    }
   ],
   "source": [
    "array1d = np.arange(start=1, stop=10)\n",
    "print(array1d)\n",
    "print(array1d > 5)\n",
    "# array와의 연산의 결과를 array로\n",
    "var1 = array1d > 5\n",
    "print(\"var1:\",var1)\n",
    "print(type(var1))\n",
    "print(var1.dtype)\n",
    "# [ ] 안에 array1d > 5 의 결과를 얻어 Boolean indexing으로 적용 \n",
    "array3 = array1d[array1d > 5]\n",
    "print('array1d > 5 불린 인덱싱 결과 값 :', array3)"
   ]
  },
  {
   "cell_type": "markdown",
   "metadata": {},
   "source": [
    "##### ndarray 값들을 이용한 인덱싱"
   ]
  },
  {
   "cell_type": "code",
   "execution_count": 46,
   "metadata": {},
   "outputs": [
    {
     "name": "stdout",
     "output_type": "stream",
     "text": [
      "[1 2 3 4 5 6 7 8 9]\n",
      "일반 인덱스로 필터링 결과 : [6 7 8 9]\n",
      "리스트로 인덱싱한 결과 :  [6 7 8 9]\n"
     ]
    }
   ],
   "source": [
    "print(array1d)\n",
    "# 필터링(인덱싱)할 인덱스들을  모아서 array로 변환 후 적용\n",
    "indexes = np.array([5,6,7,8])\n",
    "array4 = array1d[ indexes ]\n",
    "print('일반 인덱스로 필터링 결과 :',array4)\n",
    "\n",
    "# 필터링할 값들을 리스트로 저장하고 적용\n",
    "target = [6,7,8,9]\n",
    "array_selected = np.array(target)\n",
    "print('리스트로 값들을 골라 생성한 결과 : ' , array_selected)"
   ]
  },
  {
   "cell_type": "markdown",
   "metadata": {},
   "source": [
    "##### 배열의 정렬 - sort() 와 argsort()"
   ]
  },
  {
   "cell_type": "code",
   "execution_count": 47,
   "metadata": {},
   "outputs": [
    {
     "name": "stdout",
     "output_type": "stream",
     "text": [
      "원본 행렬: [3 1 9 5]\n",
      "np.sort( ) 호출 후 반환된 정렬 행렬: [1 3 5 9]\n",
      "np.sort( ) 호출 후 원본 행렬: [3 1 9 5]\n"
     ]
    }
   ],
   "source": [
    "org_array = np.array([ 3, 1, 9, 5]) \n",
    "print('원본 행렬:', org_array)\n",
    "# np.sort( )로 정렬 \n",
    "sort_array1 = np.sort(org_array)         \n",
    "print ('np.sort( ) 호출 후 반환된 정렬 행렬:', sort_array1) \n",
    "print('np.sort( ) 호출 후 원본 행렬:', org_array)"
   ]
  },
  {
   "cell_type": "code",
   "execution_count": 49,
   "metadata": {},
   "outputs": [
    {
     "name": "stdout",
     "output_type": "stream",
     "text": [
      "org_array.sort( ) 호출 후 반환된 행렬: None\n",
      "org_array.sort( ) 호출 후 원본 행렬: [1 3 5 9]\n"
     ]
    }
   ],
   "source": [
    "# ndarray.sort( )로 정렬\n",
    "sort_array2 = org_array.sort()\n",
    "# org_array.sort()\n",
    "print('org_array.sort( ) 호출 후 반환된 행렬:', sort_array2)\n",
    "print('org_array.sort( ) 호출 후 원본 행렬:', org_array)"
   ]
  },
  {
   "cell_type": "code",
   "execution_count": 51,
   "metadata": {},
   "outputs": [
    {
     "name": "stdout",
     "output_type": "stream",
     "text": [
      "내림차순으로 정렬: [9 5 3 1]\n"
     ]
    }
   ],
   "source": [
    "# 내림차순 정렬\n",
    "sort_array1_desc = np.sort(org_array)[::-1]\n",
    "print ('내림차순으로 정렬:', sort_array1_desc) "
   ]
  },
  {
   "cell_type": "code",
   "execution_count": 53,
   "metadata": {},
   "outputs": [
    {
     "name": "stdout",
     "output_type": "stream",
     "text": [
      "원본 : \n",
      " [[ 8 12]\n",
      " [ 9  1]]\n",
      "row 방향으로 정렬:\n",
      " [[ 8  1]\n",
      " [ 9 12]]\n",
      "column 방향으로 정렬:\n",
      " [[ 8 12]\n",
      " [ 1  9]]\n"
     ]
    }
   ],
   "source": [
    "# 2차원 배열의 정렬\n",
    "array2d = np.array([[8, 12], [9, 1 ]]) \n",
    "print('원본 : \\n', array2d)\n",
    "sort_array2d_axis0 = np.sort(array2d, axis=0)\n",
    "print('row 단위로 정렬:\\n', sort_array2d_axis0)\n",
    "sort_array2d_axis1 = np.sort(array2d, axis=1)\n",
    "print('column 단위로 정렬:\\n', sort_array2d_axis1)"
   ]
  },
  {
   "cell_type": "code",
   "execution_count": 56,
   "metadata": {},
   "outputs": [
    {
     "name": "stdout",
     "output_type": "stream",
     "text": [
      "[[[ 8  7]\n",
      "  [ 3  1]]\n",
      "\n",
      " [[ 9  6]\n",
      "  [ 7  5]]\n",
      "\n",
      " [[ 7  3]\n",
      "  [11 12]]]\n",
      "axis=0 으로 정렬:\n",
      " [[[ 7  3]\n",
      "  [ 3  1]]\n",
      "\n",
      " [[ 8  6]\n",
      "  [ 7  5]]\n",
      "\n",
      " [[ 9  7]\n",
      "  [11 12]]]\n",
      "axis=1 으로 정렬:\n",
      " [[[ 3  1]\n",
      "  [ 8  7]]\n",
      "\n",
      " [[ 7  5]\n",
      "  [ 9  6]]\n",
      "\n",
      " [[ 7  3]\n",
      "  [11 12]]]\n",
      "axis=2 으로 정렬:\n",
      " [[[ 7  8]\n",
      "  [ 1  3]]\n",
      "\n",
      " [[ 6  9]\n",
      "  [ 5  7]]\n",
      "\n",
      " [[ 3  7]\n",
      "  [11 12]]]\n"
     ]
    }
   ],
   "source": [
    "# 3차원 배열의 정렬\n",
    "array3d = np.array([  [[8,7],[3,1]],  [[9,6],[7,5]],  [[7,3],[11,12]]  ])\n",
    "print(array3d)\n",
    "sort_array3d_axis0 = np.sort(array3d, axis=0)\n",
    "print('axis=0 으로 정렬:\\n', sort_array3d_axis0)\n",
    "sort_array3d_axis1 = np.sort(array3d, axis=1)\n",
    "print('axis=1 으로 정렬:\\n', sort_array3d_axis1)\n",
    "sort_array3d_axis2 = np.sort(array3d, axis=2)\n",
    "print('axis=2 으로 정렬:\\n', sort_array3d_axis2)"
   ]
  },
  {
   "cell_type": "markdown",
   "metadata": {},
   "source": [
    "##### argsort()"
   ]
  },
  {
   "cell_type": "code",
   "execution_count": 68,
   "metadata": {},
   "outputs": [
    {
     "name": "stdout",
     "output_type": "stream",
     "text": [
      "일반sort 결과 :  [1 3 5 9]\n",
      "argsort 결과의 데이터 타입 ;  <class 'numpy.ndarray'>\n",
      "argsort 의 결과: [1 0 3 2]\n",
      "artsort 결과중 마지막값을 원본배열의 인덱싱값으로 사용(가장큰값): 9\n"
     ]
    }
   ],
   "source": [
    "org_array = np.array([ 3, 1, 9, 5]) \n",
    "print('일반sort 결과 : ' , np.sort(org_array))\n",
    "\n",
    "sort_index = np.argsort(org_array)   #argsort 실행\n",
    "print('argsort 결과의 데이터 타입 ; ' , type(sort_index)) # 결과 데이터 타입\n",
    "print('argsort 의 결과:', sort_index) # 결과 배열 출력\n",
    "print('artsort 결과중 마지막값을 원본배열의 인덱싱값으로 사용(가장큰값):',\\\n",
    "                                                  org_array[ sort_index[-1] ])"
   ]
  },
  {
   "cell_type": "code",
   "execution_count": 72,
   "metadata": {},
   "outputs": [
    {
     "name": "stdout",
     "output_type": "stream",
     "text": [
      "일반 sort 결과 :  [9 5 3 1]\n",
      "argsort 결과로 원본배열 인덱싱 : [9 5 3 1]\n"
     ]
    }
   ],
   "source": [
    "org_array = np.array([ 3, 1, 9, 5]) \n",
    "print('일반 sort 결과 : ' , np.sort(org_array)[::-1])\n",
    "sort_index_desc = np.argsort(org_array)[::-1]\n",
    "print('argsort 결과로 원본배열 인덱싱 :', org_array[ sort_index_desc ])"
   ]
  },
  {
   "cell_type": "code",
   "execution_count": 75,
   "metadata": {},
   "outputs": [
    {
     "name": "stdout",
     "output_type": "stream",
     "text": [
      "sort index: [3 0 1 4 2]\n",
      "최고점자의 이름 :  Kate\n",
      "['Kate' 'John' 'Mike' 'Samuel' 'Sarah']\n",
      "[98 98 95 88 84]\n"
     ]
    }
   ],
   "source": [
    "name_array=np.array(['John', 'Mike', 'Sarah', 'Kate', 'Samuel'])\n",
    "score_array=np.array([98, 95, 84, 98, 88])\n",
    "# score_array의 정렬된 값에 해당하는 원본 행렬 위치 인덱스 반환하고 \n",
    "# 이를 이용하여 name_array에서 name값 추출.  \n",
    "sort_index = np.argsort(score_array)[::-1]\n",
    "print(\"sort index:\", sort_index)\n",
    "print(\"최고점자의 이름 : \", name_array[ sort_index[0] ])\n",
    "\n",
    "# 정렬결과 전체 \n",
    "name_array_sort = name_array[sort_index]\n",
    "score_array_sort = score_array[sort_index]\n",
    "print(name_array_sort)\n",
    "print(score_array_sort)"
   ]
  },
  {
   "cell_type": "code",
   "execution_count": null,
   "metadata": {},
   "outputs": [],
   "source": []
  }
 ],
 "metadata": {
  "kernelspec": {
   "display_name": "Python 3",
   "language": "python",
   "name": "python3"
  },
  "language_info": {
   "codemirror_mode": {
    "name": "ipython",
    "version": 3
   },
   "file_extension": ".py",
   "mimetype": "text/x-python",
   "name": "python",
   "nbconvert_exporter": "python",
   "pygments_lexer": "ipython3",
   "version": "3.8.5"
  }
 },
 "nbformat": 4,
 "nbformat_minor": 4
}
