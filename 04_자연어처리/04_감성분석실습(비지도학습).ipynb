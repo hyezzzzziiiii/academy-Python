{
 "cells": [
  {
   "cell_type": "markdown",
   "metadata": {},
   "source": [
    "### 비지도학습 기반 감성 분석 소개\n",
    "### SentiWordNet을 이용한 Sentiment Analysis \n",
    "* WordNet Synset과 SentiWordNet SentiSynset 클래스의 이해\n",
    "* IMDB영화평 사용"
   ]
  },
  {
   "cell_type": "code",
   "execution_count": 1,
   "metadata": {},
   "outputs": [],
   "source": [
    "from nltk.corpus import wordnet as wn"
   ]
  },
  {
   "cell_type": "code",
   "execution_count": 5,
   "metadata": {},
   "outputs": [
    {
     "name": "stdout",
     "output_type": "stream",
     "text": [
      "synsets() 반환 type : <class 'list'>\n",
      "synsets() 반환 값 갯수: 18\n",
      "synsets() 반환 값 : [Synset('present.n.01'), Synset('present.n.02'), Synset('present.n.03'), Synset('show.v.01'), Synset('present.v.02'), Synset('stage.v.01'), Synset('present.v.04'), Synset('present.v.05'), Synset('award.v.01'), Synset('give.v.08'), Synset('deliver.v.01'), Synset('introduce.v.01'), Synset('portray.v.04'), Synset('confront.v.03'), Synset('present.v.12'), Synset('salute.v.06'), Synset('present.a.01'), Synset('present.a.02')]\n"
     ]
    }
   ],
   "source": [
    "term = 'present'\n",
    "# 'present'라는 단어로 wordnet의 synsets(단어의 의미와 구성 및 품사, 유사어 등을 \n",
    "# 저장하고 있는 객체) 생성. \n",
    "synsets = wn.synsets(term)\n",
    "print('synsets() 반환 type :', type(synsets))\n",
    "print('synsets() 반환 값 갯수:', len(synsets))\n",
    "print('synsets() 반환 값 :', synsets)"
   ]
  },
  {
   "cell_type": "code",
   "execution_count": 6,
   "metadata": {},
   "outputs": [
    {
     "name": "stdout",
     "output_type": "stream",
     "text": [
      "##### Synset 이름 :  present.n.01 #####\n",
      "POS : noun.time\n",
      "Definition: the period of time that is happening now; any continuous stretch of time including the moment of speech\n",
      "Lemmas: ['present', 'nowadays']\n",
      "##### Synset 이름 :  present.n.02 #####\n",
      "POS : noun.possession\n",
      "Definition: something presented as a gift\n",
      "Lemmas: ['present']\n",
      "##### Synset 이름 :  present.n.03 #####\n",
      "POS : noun.communication\n",
      "Definition: a verb tense that expresses actions or states at the time of speaking\n",
      "Lemmas: ['present', 'present_tense']\n",
      "##### Synset 이름 :  show.v.01 #####\n",
      "POS : verb.perception\n",
      "Definition: give an exhibition of to an interested audience\n",
      "Lemmas: ['show', 'demo', 'exhibit', 'present', 'demonstrate']\n",
      "##### Synset 이름 :  present.v.02 #####\n",
      "POS : verb.communication\n",
      "Definition: bring forward and present to the mind\n",
      "Lemmas: ['present', 'represent', 'lay_out']\n",
      "##### Synset 이름 :  stage.v.01 #####\n",
      "POS : verb.creation\n",
      "Definition: perform (a play), especially on a stage\n",
      "Lemmas: ['stage', 'present', 'represent']\n",
      "##### Synset 이름 :  present.v.04 #####\n",
      "POS : verb.possession\n",
      "Definition: hand over formally\n",
      "Lemmas: ['present', 'submit']\n",
      "##### Synset 이름 :  present.v.05 #####\n",
      "POS : verb.stative\n",
      "Definition: introduce\n",
      "Lemmas: ['present', 'pose']\n",
      "##### Synset 이름 :  award.v.01 #####\n",
      "POS : verb.possession\n",
      "Definition: give, especially as an honor or reward\n",
      "Lemmas: ['award', 'present']\n",
      "##### Synset 이름 :  give.v.08 #####\n",
      "POS : verb.possession\n",
      "Definition: give as a present; make a gift of\n",
      "Lemmas: ['give', 'gift', 'present']\n",
      "##### Synset 이름 :  deliver.v.01 #####\n",
      "POS : verb.communication\n",
      "Definition: deliver (a speech, oration, or idea)\n",
      "Lemmas: ['deliver', 'present']\n",
      "##### Synset 이름 :  introduce.v.01 #####\n",
      "POS : verb.communication\n",
      "Definition: cause to come to know personally\n",
      "Lemmas: ['introduce', 'present', 'acquaint']\n",
      "##### Synset 이름 :  portray.v.04 #####\n",
      "POS : verb.creation\n",
      "Definition: represent abstractly, for example in a painting, drawing, or sculpture\n",
      "Lemmas: ['portray', 'present']\n",
      "##### Synset 이름 :  confront.v.03 #####\n",
      "POS : verb.communication\n",
      "Definition: present somebody with something, usually to accuse or criticize\n",
      "Lemmas: ['confront', 'face', 'present']\n",
      "##### Synset 이름 :  present.v.12 #####\n",
      "POS : verb.communication\n",
      "Definition: formally present a debutante, a representative of a country, etc.\n",
      "Lemmas: ['present']\n",
      "##### Synset 이름 :  salute.v.06 #####\n",
      "POS : verb.communication\n",
      "Definition: recognize with a gesture prescribed by a military regulation; assume a prescribed position\n",
      "Lemmas: ['salute', 'present']\n",
      "##### Synset 이름 :  present.a.01 #####\n",
      "POS : adj.all\n",
      "Definition: temporal sense; intermediate between past and future; now existing or happening or in consideration\n",
      "Lemmas: ['present']\n",
      "##### Synset 이름 :  present.a.02 #####\n",
      "POS : adj.all\n",
      "Definition: being or existing in a specified place\n",
      "Lemmas: ['present']\n"
     ]
    }
   ],
   "source": [
    "for synset in synsets:\n",
    "    print('##### Synset 이름 : ', synset.name(),'#####')\n",
    "    print('POS :',synset.lexname())\n",
    "    print('Definition:',synset.definition())\n",
    "    print('Lemmas:',synset.lemma_names())"
   ]
  },
  {
   "cell_type": "code",
   "execution_count": 10,
   "metadata": {},
   "outputs": [
    {
     "name": "stdout",
     "output_type": "stream",
     "text": [
      "##### Synset 이름 :  right.n.01 #####\n",
      "POS : noun.attribute\n",
      "Definition: an abstract idea of that which is due to a person or governmental body by law or tradition or nature; ; - Eleanor Roosevelt\n",
      "Lemmas: ['right']\n",
      "##### Synset 이름 :  right.n.02 #####\n",
      "POS : noun.location\n",
      "Definition: location near or direction toward the right side; i.e. the side to the south when a person or object faces east\n",
      "Lemmas: ['right']\n",
      "##### Synset 이름 :  right_field.n.01 #####\n",
      "POS : noun.artifact\n",
      "Definition: the piece of ground in the outfield on the catcher's right\n",
      "Lemmas: ['right_field', 'rightfield', 'right']\n",
      "##### Synset 이름 :  right.n.04 #####\n",
      "POS : noun.group\n",
      "Definition: those who support political or social or economic conservatism; those who believe that things are better left unchanged\n",
      "Lemmas: ['right', 'right_wing']\n",
      "##### Synset 이름 :  right.n.05 #####\n",
      "POS : noun.body\n",
      "Definition: the hand that is on the right side of the body\n",
      "Lemmas: ['right', 'right_hand']\n",
      "##### Synset 이름 :  right.n.06 #####\n",
      "POS : noun.act\n",
      "Definition: a turn toward the side of the body that is on the south when the person is facing east\n",
      "Lemmas: ['right']\n",
      "##### Synset 이름 :  right.n.07 #####\n",
      "POS : noun.attribute\n",
      "Definition: anything in accord with principles of justice\n",
      "Lemmas: ['right', 'rightfulness']\n",
      "##### Synset 이름 :  right.n.08 #####\n",
      "POS : noun.possession\n",
      "Definition: (frequently plural) the interest possessed by law or custom in some intangible thing\n",
      "Lemmas: ['right']\n",
      "##### Synset 이름 :  right.v.01 #####\n",
      "POS : verb.social\n",
      "Definition: make reparations or amends for\n",
      "Lemmas: ['right', 'compensate', 'redress', 'correct']\n",
      "##### Synset 이름 :  right.v.02 #####\n",
      "POS : verb.motion\n",
      "Definition: put in or restore to an upright position\n",
      "Lemmas: ['right']\n",
      "##### Synset 이름 :  right.v.03 #####\n",
      "POS : verb.motion\n",
      "Definition: regain an upright or proper position\n",
      "Lemmas: ['right']\n",
      "##### Synset 이름 :  correct.v.01 #####\n",
      "POS : verb.change\n",
      "Definition: make right or correct\n",
      "Lemmas: ['correct', 'rectify', 'right']\n",
      "##### Synset 이름 :  right.a.01 #####\n",
      "POS : adj.all\n",
      "Definition: being or located on or directed toward the side of the body to the east when facing north\n",
      "Lemmas: ['right']\n",
      "##### Synset 이름 :  correct.a.01 #####\n",
      "POS : adj.all\n",
      "Definition: free from error; especially conforming to fact or truth\n",
      "Lemmas: ['correct', 'right']\n",
      "##### Synset 이름 :  correct.s.02 #####\n",
      "POS : adj.all\n",
      "Definition: socially right or correct\n",
      "Lemmas: ['correct', 'right']\n",
      "##### Synset 이름 :  right.a.04 #####\n",
      "POS : adj.all\n",
      "Definition: in conformance with justice or law or morality\n",
      "Lemmas: ['right']\n",
      "##### Synset 이름 :  right.a.05 #####\n",
      "POS : adj.all\n",
      "Definition: correct in opinion or judgment\n",
      "Lemmas: ['right', 'correct']\n",
      "##### Synset 이름 :  proper.s.04 #####\n",
      "POS : adj.all\n",
      "Definition: appropriate for a condition or purpose or occasion or a person's character, needs\n",
      "Lemmas: ['proper', 'right']\n",
      "##### Synset 이름 :  right.a.07 #####\n",
      "POS : adj.all\n",
      "Definition: of or belonging to the political or intellectual right\n",
      "Lemmas: ['right']\n",
      "##### Synset 이름 :  right.s.08 #####\n",
      "POS : adj.all\n",
      "Definition: in or into a satisfactory condition\n",
      "Lemmas: ['right']\n",
      "##### Synset 이름 :  right.s.09 #####\n",
      "POS : adj.all\n",
      "Definition: intended for the right hand\n",
      "Lemmas: ['right', 'right-hand']\n",
      "##### Synset 이름 :  correct.s.03 #####\n",
      "POS : adj.all\n",
      "Definition: in accord with accepted standards of usage or procedure\n",
      "Lemmas: ['correct', 'right']\n",
      "##### Synset 이름 :  right.s.11 #####\n",
      "POS : adj.all\n",
      "Definition: having the axis perpendicular to the base\n",
      "Lemmas: ['right']\n",
      "##### Synset 이름 :  right.s.12 #####\n",
      "POS : adj.all\n",
      "Definition: (of the side of cloth or clothing) facing or intended to face outward\n",
      "Lemmas: ['right']\n",
      "##### Synset 이름 :  good.s.12 #####\n",
      "POS : adj.all\n",
      "Definition: most suitable or right for a particular purpose\n",
      "Lemmas: ['good', 'right', 'ripe']\n",
      "##### Synset 이름 :  veracious.s.02 #####\n",
      "POS : adj.all\n",
      "Definition: precisely accurate\n",
      "Lemmas: ['veracious', 'right']\n",
      "##### Synset 이름 :  right.r.01 #####\n",
      "POS : adv.all\n",
      "Definition: precisely, exactly\n",
      "Lemmas: ['right']\n",
      "##### Synset 이름 :  right.r.02 #####\n",
      "POS : adv.all\n",
      "Definition: immediately\n",
      "Lemmas: ['right']\n",
      "##### Synset 이름 :  right.r.03 #####\n",
      "POS : adv.all\n",
      "Definition: exactly\n",
      "Lemmas: ['right', 'flop']\n",
      "##### Synset 이름 :  right.r.04 #####\n",
      "POS : adv.all\n",
      "Definition: toward or on the right; also used figuratively\n",
      "Lemmas: ['right']\n",
      "##### Synset 이름 :  properly.r.01 #####\n",
      "POS : adv.all\n",
      "Definition: in the right manner\n",
      "Lemmas: ['properly', 'decently', 'decent', 'in_good_order', 'right', 'the_right_way']\n",
      "##### Synset 이름 :  right.r.06 #####\n",
      "POS : adv.all\n",
      "Definition: an interjection expressing agreement\n",
      "Lemmas: ['right', 'right_on']\n",
      "##### Synset 이름 :  right.r.07 #####\n",
      "POS : adv.all\n",
      "Definition: completely\n",
      "Lemmas: ['right']\n",
      "##### Synset 이름 :  mighty.r.01 #####\n",
      "POS : adv.all\n",
      "Definition: (Southern regional intensive) very; to a great degree\n",
      "Lemmas: ['mighty', 'mightily', 'powerful', 'right']\n",
      "##### Synset 이름 :  justly.r.02 #####\n",
      "POS : adv.all\n",
      "Definition: in accordance with moral or social standards\n",
      "Lemmas: ['justly', 'right']\n",
      "##### Synset 이름 :  correctly.r.01 #####\n",
      "POS : adv.all\n",
      "Definition: in an accurate manner\n",
      "Lemmas: ['correctly', 'right', 'aright']\n"
     ]
    }
   ],
   "source": [
    "term = 'right'\n",
    "synsets = wn.synsets(term)\n",
    "for synset in synsets:\n",
    "    print('##### Synset 이름 : ', synset.name(),'#####')\n",
    "    print('POS :',synset.lexname())\n",
    "    print('Definition:',synset.definition())\n",
    "    print('Lemmas:',synset.lemma_names())"
   ]
  },
  {
   "cell_type": "code",
   "execution_count": 11,
   "metadata": {},
   "outputs": [
    {
     "name": "stdout",
     "output_type": "stream",
     "text": [
      "##### Synset 이름 :  tiger.n.01 #####\n",
      "POS : noun.person\n",
      "Definition: a fierce or audacious person\n",
      "Lemmas: ['tiger']\n",
      "##### Synset 이름 :  tiger.n.02 #####\n",
      "POS : noun.animal\n",
      "Definition: large feline of forests in most of Asia having a tawny coat with black stripes; endangered\n",
      "Lemmas: ['tiger', 'Panthera_tigris']\n"
     ]
    }
   ],
   "source": [
    "term = 'tiger'\n",
    "synsets = wn.synsets(term)\n",
    "for synset in synsets:\n",
    "    print('##### Synset 이름 : ', synset.name(),'#####')\n",
    "    print('POS :',synset.lexname())\n",
    "    print('Definition:',synset.definition())\n",
    "    print('Lemmas:',synset.lemma_names())"
   ]
  },
  {
   "cell_type": "code",
   "execution_count": 13,
   "metadata": {},
   "outputs": [
    {
     "name": "stdout",
     "output_type": "stream",
     "text": [
      "a tall perennial woody plant having a main trunk and branches forming a distinct elevated crown; includes both gymnosperms and angiosperms\n",
      "\n",
      "large feline of forests in most of Asia having a tawny coat with black stripes; endangered\n"
     ]
    }
   ],
   "source": [
    "# synset 객체를 단어별로 생성합니다. \n",
    "tree = wn.synset('tree.n.01')\n",
    "lion = wn.synset('lion.n.01')\n",
    "tiger = wn.synset('tiger.n.02')\n",
    "cat = wn.synset('cat.n.01')\n",
    "dog = wn.synset('dog.n.01')\n",
    "print(tree.definition())\n",
    "print()\n",
    "print(tiger.definition())"
   ]
  },
  {
   "cell_type": "code",
   "execution_count": 14,
   "metadata": {},
   "outputs": [
    {
     "name": "stdout",
     "output_type": "stream",
     "text": [
      "tree.n.01\n"
     ]
    }
   ],
   "source": [
    "print(tree.name())"
   ]
  },
  {
   "cell_type": "code",
   "execution_count": 15,
   "metadata": {},
   "outputs": [
    {
     "name": "stdout",
     "output_type": "stream",
     "text": [
      "tree\n"
     ]
    }
   ],
   "source": [
    "print(tree.name().split('.')[0])"
   ]
  },
  {
   "cell_type": "code",
   "execution_count": 17,
   "metadata": {},
   "outputs": [
    {
     "name": "stdout",
     "output_type": "stream",
     "text": [
      "['tree', 'lion', 'tiger', 'cat', 'dog']\n"
     ]
    }
   ],
   "source": [
    "entities = [tree , lion , tiger , cat , dog]\n",
    "entity_names = [ entity.name().split('.')[0] for entity in entities]\n",
    "print(entity_names)"
   ]
  },
  {
   "cell_type": "code",
   "execution_count": 26,
   "metadata": {},
   "outputs": [
    {
     "name": "stdout",
     "output_type": "stream",
     "text": [
      "0.25\n"
     ]
    }
   ],
   "source": [
    "print(entities[1].path_similarity(entities[3]))"
   ]
  },
  {
   "cell_type": "code",
   "execution_count": 27,
   "metadata": {},
   "outputs": [
    {
     "name": "stdout",
     "output_type": "stream",
     "text": [
      "[[1.0, 0.07, 0.07, 0.08, 0.12], [0.07, 1.0, 0.33, 0.25, 0.17], [0.07, 0.33, 1.0, 0.25, 0.17], [0.08, 0.25, 0.25, 1.0, 0.2], [0.12, 0.17, 0.17, 0.2, 1.0]]\n"
     ]
    }
   ],
   "source": [
    "# entities[0] 으로 전체 데이터와 유사도 측정 : 결과가 리스트\n",
    "# entities[1] 으로 전체 데이터와 유사도 측정 : 결과가 리스트\n",
    "# entities[2] 으로 전체 데이터와 유사도 측정 : 결과가 리스트\n",
    "# entities[3] 으로 전체 데이터와 유사도 측정 : 결과가 리스트\n",
    "# entities[4] 으로 전체 데이터와 유사도 측정 : 결과가 리스트\n",
    "# 결과 리스트들을 별도의 리스트에 append\n",
    "similarities = []\n",
    "for en1 in entities:\n",
    "    similarity = [ round( en1.path_similarity(en2), 2)  for en2 in entities ]\n",
    "    similarities.append( similarity ) \n",
    "print(similarities)"
   ]
  },
  {
   "cell_type": "code",
   "execution_count": 28,
   "metadata": {},
   "outputs": [
    {
     "data": {
      "text/html": [
       "<div>\n",
       "<style scoped>\n",
       "    .dataframe tbody tr th:only-of-type {\n",
       "        vertical-align: middle;\n",
       "    }\n",
       "\n",
       "    .dataframe tbody tr th {\n",
       "        vertical-align: top;\n",
       "    }\n",
       "\n",
       "    .dataframe thead th {\n",
       "        text-align: right;\n",
       "    }\n",
       "</style>\n",
       "<table border=\"1\" class=\"dataframe\">\n",
       "  <thead>\n",
       "    <tr style=\"text-align: right;\">\n",
       "      <th></th>\n",
       "      <th>tree</th>\n",
       "      <th>lion</th>\n",
       "      <th>tiger</th>\n",
       "      <th>cat</th>\n",
       "      <th>dog</th>\n",
       "    </tr>\n",
       "  </thead>\n",
       "  <tbody>\n",
       "    <tr>\n",
       "      <th>tree</th>\n",
       "      <td>1.00</td>\n",
       "      <td>0.07</td>\n",
       "      <td>0.07</td>\n",
       "      <td>0.08</td>\n",
       "      <td>0.12</td>\n",
       "    </tr>\n",
       "    <tr>\n",
       "      <th>lion</th>\n",
       "      <td>0.07</td>\n",
       "      <td>1.00</td>\n",
       "      <td>0.33</td>\n",
       "      <td>0.25</td>\n",
       "      <td>0.17</td>\n",
       "    </tr>\n",
       "    <tr>\n",
       "      <th>tiger</th>\n",
       "      <td>0.07</td>\n",
       "      <td>0.33</td>\n",
       "      <td>1.00</td>\n",
       "      <td>0.25</td>\n",
       "      <td>0.17</td>\n",
       "    </tr>\n",
       "    <tr>\n",
       "      <th>cat</th>\n",
       "      <td>0.08</td>\n",
       "      <td>0.25</td>\n",
       "      <td>0.25</td>\n",
       "      <td>1.00</td>\n",
       "      <td>0.20</td>\n",
       "    </tr>\n",
       "    <tr>\n",
       "      <th>dog</th>\n",
       "      <td>0.12</td>\n",
       "      <td>0.17</td>\n",
       "      <td>0.17</td>\n",
       "      <td>0.20</td>\n",
       "      <td>1.00</td>\n",
       "    </tr>\n",
       "  </tbody>\n",
       "</table>\n",
       "</div>"
      ],
      "text/plain": [
       "       tree  lion  tiger   cat   dog\n",
       "tree   1.00  0.07   0.07  0.08  0.12\n",
       "lion   0.07  1.00   0.33  0.25  0.17\n",
       "tiger  0.07  0.33   1.00  0.25  0.17\n",
       "cat    0.08  0.25   0.25  1.00  0.20\n",
       "dog    0.12  0.17   0.17  0.20  1.00"
      ]
     },
     "execution_count": 28,
     "metadata": {},
     "output_type": "execute_result"
    }
   ],
   "source": [
    "similarity_df = pd.DataFrame(similarities , columns=entity_names, index=entity_names)\n",
    "similarity_df"
   ]
  },
  {
   "cell_type": "code",
   "execution_count": 29,
   "metadata": {},
   "outputs": [],
   "source": [
    "import nltk\n",
    "from nltk.corpus import sentiwordnet as swn"
   ]
  },
  {
   "cell_type": "code",
   "execution_count": 31,
   "metadata": {},
   "outputs": [
    {
     "name": "stdout",
     "output_type": "stream",
     "text": [
      "father 긍정감성 지수:  0.0\n",
      "father 부정감성 지수:  0.0\n",
      "father 객관성 지수:  1.0\n",
      "\n",
      "fabulous 긍정감성 지수:  0.875\n",
      "fabulous 부정감성 지수:  0.125\n",
      "fabulous 객관성 지수:  0.0\n"
     ]
    }
   ],
   "source": [
    "father = swn.senti_synset('father.n.01')\n",
    "print('father 긍정감성 지수: ', father.pos_score())\n",
    "print('father 부정감성 지수: ', father.neg_score())\n",
    "print('father 객관성 지수: ', father.obj_score())\n",
    "print()\n",
    "fabulous = swn.senti_synset('fabulous.a.01')\n",
    "print('fabulous 긍정감성 지수: ',fabulous.pos_score())\n",
    "print('fabulous 부정감성 지수: ',fabulous.neg_score())\n",
    "print('fabulous 객관성 지수: ',fabulous.obj_score())"
   ]
  },
  {
   "cell_type": "code",
   "execution_count": 33,
   "metadata": {},
   "outputs": [],
   "source": [
    "from nltk.stem import WordNetLemmatizer\n",
    "from nltk.corpus import sentiwordnet as swn\n",
    "from nltk import sent_tokenize, word_tokenize, pos_tag\n",
    "# pos_tag : 입력 단어에  세부품사를 추출하는 모듈\n",
    "from nltk.corpus import wordnet as wn"
   ]
  },
  {
   "cell_type": "markdown",
   "metadata": {},
   "source": [
    "### 비지도학습 기반 감성 분석 실습 – IMDB 영화평"
   ]
  },
  {
   "cell_type": "code",
   "execution_count": 35,
   "metadata": {},
   "outputs": [],
   "source": [
    "import pandas as pd\n",
    "import re\n",
    "review_df = pd.read_csv('./labeledTrainData.tsv', header=0, sep='\\t', quoting = 3)\n",
    "review_df['review'] = review_df['review'].str.replace('<br />', ' ')\n",
    "review_df['review'] = review_df['review'].apply(lambda x:re.sub('[^a-zA-Z]',' ',x) )"
   ]
  },
  {
   "cell_type": "code",
   "execution_count": 42,
   "metadata": {},
   "outputs": [],
   "source": [
    "from sklearn.model_selection import train_test_split\n",
    "class_df = review_df['sentiment']  # target 분리\n",
    "feature_df = review_df.drop(['id','sentiment'], axis=1, inplace=False)\n",
    "X_train, X_test, y_train, y_test= train_test_split(feature_df, class_df, \\\n",
    "                                                   test_size=0.3, random_state=156)"
   ]
  },
  {
   "cell_type": "code",
   "execution_count": 43,
   "metadata": {},
   "outputs": [],
   "source": [
    "import warnings\n",
    "warnings.filterwarnings('ignore')"
   ]
  },
  {
   "cell_type": "code",
   "execution_count": 59,
   "metadata": {},
   "outputs": [],
   "source": [
    "# 품사태그를 전달 받아서 해당 품사객체를 리턴하는 함수 제작\n",
    "def penn_to_wn(tag):\n",
    "    if tag.startswith('J'):   # 형용사\n",
    "        return wn.ADJ\n",
    "    elif tag.startswith('N'):  # 명사\n",
    "        return wn.NOUN\n",
    "    elif tag.startswith('R'):  # 부사\n",
    "        return wn.ADV\n",
    "    elif tag.startswith('V'):   # 동사\n",
    "        return wn.VERB\n",
    "    return "
   ]
  },
  {
   "cell_type": "code",
   "execution_count": 60,
   "metadata": {},
   "outputs": [],
   "source": [
    "# 문장을 전달인수로 받고, 부정감성지수와 긍정감성지수의 연산으로 결정된\n",
    "# 0 또는 1을 리턴하는 함수 제작\n",
    "def swn_polarity(text):   # text 에는 문장이 전달 : review_df['review'][0]\n",
    "    # 0 또는 1 의 값을 결정할 감성지수를 저장할 변수 생성 & 초기화\n",
    "    sentiment = 0.0\n",
    "    tokens_count = 0\n",
    "    \n",
    "    # 단어의 어원(표준형)을 찾아줄 객체 생성\n",
    "    lemmatizer = WordNetLemmatizer()\n",
    "    \n",
    "    # 전달된 text 를 문장별로 분리\n",
    "    raw_sentences = sent_tokenize(text)\n",
    "    \n",
    "    for rs in raw_sentences:\n",
    "        ts = pos_tag( word_tokenize(rs) )\n",
    "        for word, tag in ts:\n",
    "            wn_tag = penn_to_wn(tag)\n",
    "            if wn_tag not in (wn.NOUN , wn.ADJ, wn.ADV):\n",
    "                continue # 명사 형용사 동사 아니면 다음단어 : 필요없는 품사제외\n",
    "            # 단어의 어근(표준형) 추출\n",
    "            lemma = lemmatizer.lemmatize(word, pos=wn_tag)    \n",
    "            # 어근을 추출한 단어와 WordNet 기반 품사 태깅을 입력해 Synset 객체를 생성. \n",
    "            synsets = wn.synsets(lemma , pos=wn_tag)\n",
    "            if not synsets:  # 생성한 synset 리스트가 비었으면 다음\n",
    "                continue\n",
    "            # sentiwordnet의 감성 단어 분석으로 감성 synset 추출\n",
    "            # 모든 단어에 대해 긍정 감성 지수는 +로 \n",
    "            # 부정 감성 지수는 -로 합산해 감성 지수 계산. \n",
    "            synset = synsets[0]\n",
    "            swn_synset = swn.senti_synset(synset.name())\n",
    "            sentiment += (swn_synset.pos_score() - swn_synset.neg_score())           \n",
    "            tokens_count += 1\n",
    "    if not tokens_count:\n",
    "        return 0\n",
    "    # 총 score가 0 이상일 경우 긍정(Positive) 1, 그렇지 않을 경우 부정(Negative) 0 \n",
    "    if sentiment >= 0 :\n",
    "        return 1\n",
    "    return 0"
   ]
  },
  {
   "cell_type": "markdown",
   "metadata": {},
   "source": [
    "* NNP: 단수 고유명사 \n",
    "* VB: 동사 \n",
    "* VBP: 동사 현재형 \n",
    "* TO: to 전치사\n",
    "* NN: 명사(단수형 혹은 집합형) \n",
    "* DT: 관형사\n",
    "* RB : 부사"
   ]
  },
  {
   "cell_type": "code",
   "execution_count": 61,
   "metadata": {},
   "outputs": [],
   "source": [
    "review_df['preds'] = review_df['review'].apply( lambda x : swn_polarity(x) )"
   ]
  },
  {
   "cell_type": "code",
   "execution_count": 62,
   "metadata": {},
   "outputs": [],
   "source": [
    "y_target = review_df['sentiment'].values   # 실제값\n",
    "preds = review_df['preds'].values   # 예측값"
   ]
  },
  {
   "cell_type": "code",
   "execution_count": 66,
   "metadata": {},
   "outputs": [
    {
     "name": "stdout",
     "output_type": "stream",
     "text": [
      "오차행렬:\n",
      "[[7668 4832]\n",
      " [3636 8864]]\n",
      "정확도: 0.66128\n",
      "정밀도: 0.647196261682243\n",
      "재현율: 0.70912\n"
     ]
    }
   ],
   "source": [
    "from sklearn.metrics import accuracy_score, confusion_matrix, precision_score \n",
    "from sklearn.metrics import recall_score, f1_score, roc_auc_score\n",
    "\n",
    "print(\"오차행렬:\")\n",
    "print(confusion_matrix( y_target, preds))\n",
    "print(\"정확도:\", accuracy_score(y_target , preds))\n",
    "print(\"정밀도:\", precision_score(y_target , preds))\n",
    "print(\"재현율:\", recall_score(y_target, preds))"
   ]
  },
  {
   "cell_type": "code",
   "execution_count": 67,
   "metadata": {},
   "outputs": [],
   "source": [
    "from nltk.sentiment.vader import SentimentIntensityAnalyzer"
   ]
  },
  {
   "cell_type": "code",
   "execution_count": 72,
   "metadata": {},
   "outputs": [
    {
     "name": "stdout",
     "output_type": "stream",
     "text": [
      "{'neg': 0.061, 'neu': 0.866, 'pos': 0.072, 'compound': 0.4893}\n"
     ]
    }
   ],
   "source": [
    "senti_analyzer = SentimentIntensityAnalyzer()\n",
    "senti_scores = senti_analyzer.polarity_scores(review_df['review'][3])\n",
    "print(senti_scores)"
   ]
  },
  {
   "cell_type": "code",
   "execution_count": 74,
   "metadata": {},
   "outputs": [],
   "source": [
    "def vader_polarity(review, threshold=0.1):\n",
    "    analyzer = SentimentIntensityAnalyzer()\n",
    "    scores = analyzer.polarity_scores(review)\n",
    "    # compound 값에 기반하여 threshold 입력값보다 크면 1, 그렇지 않으면 0을 반환\n",
    "    agg_score = scores['compound']\n",
    "    final_sentiment = 1 if agg_score >= threshold else 0\n",
    "    return final_sentiment"
   ]
  },
  {
   "cell_type": "code",
   "execution_count": 75,
   "metadata": {},
   "outputs": [],
   "source": [
    "review_df['vader_preds'] = review_df['review'].apply(lambda x : vader_polarity(x, 0.1))\n",
    "y_target = review_df['sentiment'].values\n",
    "vader_preds = review_df['vader_preds'].values"
   ]
  },
  {
   "cell_type": "code",
   "execution_count": 76,
   "metadata": {},
   "outputs": [
    {
     "name": "stdout",
     "output_type": "stream",
     "text": [
      "#### VADER 예측 성능 평가 ####\n",
      "[[ 6730  5770]\n",
      " [ 1857 10643]]\n",
      "정확도: 0.69492\n",
      "정밀도: 0.64844939986596\n",
      "재현율: 0.85144\n"
     ]
    }
   ],
   "source": [
    "print('#### VADER 예측 성능 평가 ####')\n",
    "from sklearn.metrics import accuracy_score, confusion_matrix, precision_score \n",
    "from sklearn.metrics import recall_score, f1_score, roc_auc_score\n",
    "print(confusion_matrix( y_target, vader_preds))\n",
    "print(\"정확도:\", accuracy_score(y_target , vader_preds))\n",
    "print(\"정밀도:\", precision_score(y_target , vader_preds))\n",
    "print(\"재현율:\", recall_score(y_target, vader_preds))"
   ]
  },
  {
   "cell_type": "code",
   "execution_count": null,
   "metadata": {},
   "outputs": [],
   "source": []
  }
 ],
 "metadata": {
  "kernelspec": {
   "display_name": "Python 3",
   "language": "python",
   "name": "python3"
  },
  "language_info": {
   "codemirror_mode": {
    "name": "ipython",
    "version": 3
   },
   "file_extension": ".py",
   "mimetype": "text/x-python",
   "name": "python",
   "nbconvert_exporter": "python",
   "pygments_lexer": "ipython3",
   "version": "3.8.5"
  }
 },
 "nbformat": 4,
 "nbformat_minor": 4
}
