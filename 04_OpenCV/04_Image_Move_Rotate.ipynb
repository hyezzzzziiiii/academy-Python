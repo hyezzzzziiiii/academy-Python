{
 "cells": [
  {
   "cell_type": "code",
   "execution_count": 4,
   "metadata": {},
   "outputs": [],
   "source": [
    "import cv2\n",
    "import numpy as np"
   ]
  },
  {
   "cell_type": "code",
   "execution_count": 2,
   "metadata": {},
   "outputs": [],
   "source": [
    "def readImg():\n",
    "    imgage = cv2.imread(\"./image/20200526.png\")\n",
    "    return imgage\n",
    "def showImg(imgage):\n",
    "    cv2.imshow(\"shinchon20200526\", imgage)\n",
    "    cv2.waitKey(0)\n",
    "    cv2.destroyAllWindows()"
   ]
  },
  {
   "cell_type": "code",
   "execution_count": 5,
   "metadata": {},
   "outputs": [],
   "source": [
    "img = readImg()\n",
    "showImg(img)"
   ]
  },
  {
   "cell_type": "code",
   "execution_count": 6,
   "metadata": {},
   "outputs": [
    {
     "name": "stdout",
     "output_type": "stream",
     "text": [
      "600 600 (300, 300)\n"
     ]
    }
   ],
   "source": [
    "# 이미지의 높이와 넓이 추출\n",
    "(height, width) = img.shape[:2]\n",
    "# 중점 좌표 계산\n",
    "center = (width // 2, height // 2)\n",
    "print(height, width, center)"
   ]
  },
  {
   "cell_type": "code",
   "execution_count": 19,
   "metadata": {},
   "outputs": [],
   "source": [
    "# 위아래 100 (아래로 100, -100이면 위로 100)\n",
    "# 좌우로 100 (우로 100, -100 이면 좌로 100) 이동 설정\n",
    "# move 변수에 설정값 저장\n",
    "move = np.float32([[1, 0, 100], [0, 1, 100]])\n",
    "\n",
    "# 이미지 이동 :  (width, height) 는 이동과 동시에 변경할 이미지 크기\n",
    "moved = cv2.warpAffine(img, move, (width, height))\n",
    "# 이동한 이미지 화면 출력\n",
    "showImg(moved)"
   ]
  },
  {
   "cell_type": "code",
   "execution_count": 18,
   "metadata": {},
   "outputs": [],
   "source": [
    "# 중심좌표를 기준으로 90도 회전설정\n",
    "# rotate 변수에 저장 - 마지막 1.0 은 확대 축소 배율\n",
    "rotate = cv2.getRotationMatrix2D(center, 90, 1.0)\n",
    "# 이미지 회전\n",
    "rotated = cv2.warpAffine(img, rotate, (width, height))\n",
    "showImg(rotated)"
   ]
  },
  {
   "cell_type": "code",
   "execution_count": 20,
   "metadata": {},
   "outputs": [],
   "source": [
    "# 리사이즈\n",
    "r_width = 200\n",
    "# 리사이즈 하려고 하는 width 값의 목표 값에 대한 비율 계산\n",
    "ratio = r_width / width\n",
    "\n",
    "# 계산된 비율로 height 값도 계산\n",
    "dimension = (r_width, int(height * ratio))\n",
    "# 리사이즈 실행\n",
    "resized = cv2.resize(img, dimension )\n",
    "showImg(resized)"
   ]
  },
  {
   "cell_type": "code",
   "execution_count": 21,
   "metadata": {},
   "outputs": [],
   "source": [
    "# 좌우 상하 대칭 Horizontal 1, Vertical 0, both -1\n",
    "flipped = cv2.flip(img, -1)\n",
    "showImg(flipped)"
   ]
  },
  {
   "cell_type": "code",
   "execution_count": null,
   "metadata": {},
   "outputs": [],
   "source": []
  }
 ],
 "metadata": {
  "kernelspec": {
   "display_name": "Python 3",
   "language": "python",
   "name": "python3"
  },
  "language_info": {
   "codemirror_mode": {
    "name": "ipython",
    "version": 3
   },
   "file_extension": ".py",
   "mimetype": "text/x-python",
   "name": "python",
   "nbconvert_exporter": "python",
   "pygments_lexer": "ipython3",
   "version": "3.8.5"
  }
 },
 "nbformat": 4,
 "nbformat_minor": 4
}
