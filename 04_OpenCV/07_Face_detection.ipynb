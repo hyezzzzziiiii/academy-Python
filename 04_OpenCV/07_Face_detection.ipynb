{
 "cells": [
  {
   "cell_type": "code",
   "execution_count": 21,
   "metadata": {},
   "outputs": [],
   "source": [
    "import cv2\n",
    "import numpy as np\n",
    "img = cv2.imread(\"./image/marathon_01.jpg\")\n",
    "(height, width) = img.shape[:2]"
   ]
  },
  {
   "cell_type": "code",
   "execution_count": 22,
   "metadata": {},
   "outputs": [],
   "source": [
    "# 얼굴인식 모델이 있는 경로와 파일 이름을 저장\n",
    "face_cascade_name = './data/haarcascade_frontalface_alt.xml'\n",
    "eyes_cascade_name = './data/haarcascade_eye_tree_eyeglasses.xml'"
   ]
  },
  {
   "cell_type": "code",
   "execution_count": 23,
   "metadata": {},
   "outputs": [],
   "source": [
    "# 얼굴과 눈 분류 모델 객체 생성\n",
    "face_cascade = cv2.CascadeClassifier()\n",
    "eyes_cascade = cv2.CascadeClassifier()"
   ]
  },
  {
   "cell_type": "code",
   "execution_count": 24,
   "metadata": {},
   "outputs": [],
   "source": [
    "# 식별 객체 로딩을 테스트하여 실패하였을 경우 메세지 전송하고 프로그램 종료\n",
    "if not face_cascade.load(cv2.samples.findFile(face_cascade_name)):\n",
    "    print('--(!)Error loading face cascade')\n",
    "    exit(0)\n",
    "if not eyes_cascade.load(cv2.samples.findFile(eyes_cascade_name)):\n",
    "    print('--(!)Error loading eyes cascade')\n",
    "    exit(0)"
   ]
  },
  {
   "cell_type": "code",
   "execution_count": 25,
   "metadata": {},
   "outputs": [],
   "source": [
    "def showImg(imgage):\n",
    "    cv2.imshow(\"Face Detect\", imgage)\n",
    "    cv2.waitKey(0)\n",
    "    cv2.destroyAllWindows()"
   ]
  },
  {
   "cell_type": "code",
   "execution_count": 26,
   "metadata": {},
   "outputs": [],
   "source": [
    "showImg(img)"
   ]
  },
  {
   "cell_type": "code",
   "execution_count": 27,
   "metadata": {},
   "outputs": [],
   "source": [
    "# 그레이 스케일로 변환\n",
    "frame_gray = cv2.cvtColor(img, cv2.COLOR_BGR2GRAY)\n",
    "showImg(frame_gray)"
   ]
  },
  {
   "cell_type": "code",
   "execution_count": 28,
   "metadata": {},
   "outputs": [],
   "source": [
    "# 색상 간격(채도 수치 간격)을 넓혀줍니다\n",
    "frame_gray = cv2.equalizeHist(frame_gray)\n",
    "showImg(frame_gray)"
   ]
  },
  {
   "cell_type": "code",
   "execution_count": 29,
   "metadata": {},
   "outputs": [
    {
     "name": "stdout",
     "output_type": "stream",
     "text": [
      "[[586 226  49  49]\n",
      " [689 210  57  57]\n",
      " [464 218  52  52]\n",
      " [660 309  59  59]\n",
      " [309 192  54  54]\n",
      " [822 223  63  63]\n",
      " [252 255  61  61]\n",
      " [ 28 238  56  56]\n",
      " [406 257  57  57]\n",
      " [949 272  55  55]\n",
      " [113 275  63  63]]\n"
     ]
    }
   ],
   "source": [
    "# 얼굴인식 실행( 결과 : 인식된 얼굴의 좌표들의 리스트)\n",
    "faces = face_cascade.detectMultiScale(frame_gray)\n",
    "print(faces)\n",
    "# [[ 82  41 106 106]]  : x좌표 , y좌표, 가로길이, 세로길이"
   ]
  },
  {
   "cell_type": "code",
   "execution_count": 30,
   "metadata": {},
   "outputs": [
    {
     "data": {
      "text/plain": [
       "(11, 4)"
      ]
     },
     "execution_count": 30,
     "metadata": {},
     "output_type": "execute_result"
    }
   ],
   "source": [
    "faces.shape"
   ]
  },
  {
   "cell_type": "code",
   "execution_count": 31,
   "metadata": {},
   "outputs": [],
   "source": [
    "def detectAndDisplay(frame):\n",
    "    for (x,y,w,h) in faces:\n",
    "        # 인식된 얼굴 영역을 하나씩 반복 실행문에서 전달받아 사각형을 그립니다\n",
    "        frame = cv2.rectangle(frame, (x, y), (x+w, y+h), (0, 255, 0), 2)\n",
    "        # frame_gray 에서 인식한 얼굴의 좌표와 크기로 img 에 사각형을 그립니다\n",
    "\n",
    "        # 현재 얼굴의 픽셀 영역을 faceROI 에 저장\n",
    "        faceROI = frame_gray[y:y+h,x:x+w]  \n",
    "\n",
    "        # faceROI 영역을 대상으로 눈(안구)인식 실행\n",
    "        eyes = eyes_cascade.detectMultiScale(faceROI)\n",
    "\n",
    "        for (x2,y2,w2,h2) in eyes:\n",
    "            # 그려넣을 원의 중점계산. \n",
    "            # x:얼굴의 x 좌표   x2 : 얼굴 내에서 계산한 눈의 x 좌표, w2 : 눈의 가로크기\n",
    "            # y:얼굴의 y 좌표   y2 : 얼굴 내에서 계산한 눈의 y 좌표, h2 : 눈의 세로크기\n",
    "            eye_center = (x + x2 + w2//2, y + y2 + h2//2) \n",
    "\n",
    "            # (가로+세로) 의 1/4 로 반지름 계산\n",
    "            radius = int(round((w2 + h2)*0.25))\n",
    "\n",
    "            # 계산된 눈의 위치에 원을 그려 넣습니다.\n",
    "            frame = cv2.circle(frame, eye_center, radius, (255, 255, 0 ), 2)\n",
    "    showImg(frame)"
   ]
  },
  {
   "cell_type": "code",
   "execution_count": 32,
   "metadata": {},
   "outputs": [],
   "source": [
    "# 식별 함수 호출\n",
    "detectAndDisplay(img)"
   ]
  },
  {
   "cell_type": "code",
   "execution_count": null,
   "metadata": {},
   "outputs": [],
   "source": []
  }
 ],
 "metadata": {
  "kernelspec": {
   "display_name": "Python 3",
   "language": "python",
   "name": "python3"
  },
  "language_info": {
   "codemirror_mode": {
    "name": "ipython",
    "version": 3
   },
   "file_extension": ".py",
   "mimetype": "text/x-python",
   "name": "python",
   "nbconvert_exporter": "python",
   "pygments_lexer": "ipython3",
   "version": "3.8.5"
  }
 },
 "nbformat": 4,
 "nbformat_minor": 4
}
