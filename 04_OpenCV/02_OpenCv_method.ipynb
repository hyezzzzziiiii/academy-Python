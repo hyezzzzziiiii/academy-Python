{
 "cells": [
  {
   "cell_type": "code",
   "execution_count": 1,
   "metadata": {},
   "outputs": [],
   "source": [
    "import cv2"
   ]
  },
  {
   "cell_type": "code",
   "execution_count": 2,
   "metadata": {},
   "outputs": [
    {
     "name": "stdout",
     "output_type": "stream",
     "text": [
      "OpenCV version:4.5.1\n"
     ]
    }
   ],
   "source": [
    "print(\"OpenCV version:\", end=\"\")\n",
    "print(cv2.__version__)"
   ]
  },
  {
   "cell_type": "code",
   "execution_count": 3,
   "metadata": {},
   "outputs": [],
   "source": [
    "img = cv2.imread(\"./image/20200526.png\")  #이미지 read"
   ]
  },
  {
   "cell_type": "code",
   "execution_count": 11,
   "metadata": {},
   "outputs": [],
   "source": [
    "cv2.imshow(\"shinchon20200526\", img)  # 화면 출력\n",
    "cv2.waitKey(0)      # 이미지 show  종료 키 설정\n",
    "cv2.destroyAllWindows()   # 이미지 show 윈도우 종료 설정\n",
    "#  종료키 설정이 없으면 이미지 창 종료가 어려워 집니다"
   ]
  },
  {
   "cell_type": "markdown",
   "metadata": {},
   "source": [
    "#### Image Color Mode\n",
    "* BGR :  일반 RGB 모드를 파이썬 Opencv 에서는 BGR 이라고 칭합니다\n",
    "* GRAY : gray  스케일의 색상 모드"
   ]
  },
  {
   "cell_type": "code",
   "execution_count": 6,
   "metadata": {},
   "outputs": [],
   "source": [
    "gray = cv2.cvtColor(img, cv2.COLOR_BGR2GRAY)  # color mode 변경\n",
    "cv2.imshow(\"shinchon20200526_gray\", gray)\n",
    "cv2.waitKey(0)\n",
    "cv2.destroyAllWindows()"
   ]
  },
  {
   "cell_type": "markdown",
   "metadata": {},
   "source": [
    "#### 이미지를 구성하는 픽셀의 행의 갯수와 열의 갯수  그리고 채널의 갯수"
   ]
  },
  {
   "cell_type": "code",
   "execution_count": 8,
   "metadata": {},
   "outputs": [
    {
     "name": "stdout",
     "output_type": "stream",
     "text": [
      "pixels 의 구성 : (600, 600, 3)\n",
      "가로: 600 pixels\n",
      "세로: 600 pixels\n",
      "채널: 3\n"
     ]
    }
   ],
   "source": [
    "print(\"pixels 의 구성 : {}\".format(img.shape))\n",
    "print(\"가로: {} pixels\".format(img.shape[1]))\n",
    "print(\"세로: {} pixels\".format(img.shape[0]))\n",
    "print(\"채널: {}\".format(img.shape[2]))"
   ]
  },
  {
   "cell_type": "code",
   "execution_count": 9,
   "metadata": {},
   "outputs": [],
   "source": [
    "# 이미지 파일의 복사 저장\n",
    "cv2.imwrite(\"./image/shinchon_copy.jpg\", img)\n",
    "img_copy = cv2.imread(\"./image/shinchon_copy.jpg\")\n",
    "cv2.imshow(\"shinchon20200526_gray\", img_copy)\n",
    "cv2.waitKey(0)\n",
    "cv2.destroyAllWindows()"
   ]
  },
  {
   "cell_type": "code",
   "execution_count": 10,
   "metadata": {},
   "outputs": [
    {
     "name": "stdout",
     "output_type": "stream",
     "text": [
      "Pixel at (0, 0) - Red: 121, Green: 116, Blue: 117\n"
     ]
    }
   ],
   "source": [
    "# 특정 행과 열의 픽셀 색상채널값\n",
    "(b, g, r) = img[300, 300]\n",
    "print(\"Pixel at (0, 0) - Red: {}, Green: {}, Blue: {}\".format(r,g, b))"
   ]
  },
  {
   "cell_type": "code",
   "execution_count": null,
   "metadata": {},
   "outputs": [],
   "source": []
  }
 ],
 "metadata": {
  "kernelspec": {
   "display_name": "Python 3",
   "language": "python",
   "name": "python3"
  },
  "language_info": {
   "codemirror_mode": {
    "name": "ipython",
    "version": 3
   },
   "file_extension": ".py",
   "mimetype": "text/x-python",
   "name": "python",
   "nbconvert_exporter": "python",
   "pygments_lexer": "ipython3",
   "version": "3.8.5"
  }
 },
 "nbformat": 4,
 "nbformat_minor": 4
}
