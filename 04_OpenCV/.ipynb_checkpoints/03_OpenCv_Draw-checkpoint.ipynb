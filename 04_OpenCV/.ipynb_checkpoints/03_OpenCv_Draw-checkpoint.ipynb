{
 "cells": [
  {
   "cell_type": "code",
   "execution_count": 4,
   "metadata": {},
   "outputs": [
    {
     "name": "stdout",
     "output_type": "stream",
     "text": [
      "pixels & channels: (600, 600, 3)\n",
      "width: 600 pixels\n",
      "height: 600 pixels\n",
      "channels: 3\n"
     ]
    }
   ],
   "source": [
    "import cv2\n",
    "img = cv2.imread(\"./image/20200526.png\")\n",
    "print(\"pixels & channels: {}\".format(img.shape))\n",
    "print(\"width: {} pixels\".format(img.shape[1]))\n",
    "print(\"height: {} pixels\".format(img.shape[0]))\n",
    "print(\"channels: {}\".format(img.shape[2]))"
   ]
  },
  {
   "cell_type": "code",
   "execution_count": 6,
   "metadata": {},
   "outputs": [],
   "source": [
    "# img.shape 의 마지막 값(img.shape[2]) 은 색상값 (0~255 , 0~255, 0~255) 입니다\n",
    "# 한개의 픽셀을 흰색으로 변환\n",
    "img[100, 100] = (255,255,255)\n",
    "cv2.imshow(\"shinchon20200526\", img)\n",
    "cv2.waitKey(0)\n",
    "cv2.destroyAllWindows()"
   ]
  },
  {
   "cell_type": "code",
   "execution_count": 7,
   "metadata": {},
   "outputs": [],
   "source": [
    "# 여러 피셀의 색깔을 빨간색으로 변화\n",
    "img[350:400, 250:300] = (0,0,255)\n",
    "cv2.imshow(\"shinchon20200526\", img)\n",
    "cv2.waitKey(0)\n",
    "cv2.destroyAllWindows()"
   ]
  },
  {
   "cell_type": "code",
   "execution_count": 21,
   "metadata": {},
   "outputs": [],
   "source": [
    "def readImg():\n",
    "    imgage = cv2.imread(\"./image/20200526.png\")\n",
    "    return imgage"
   ]
  },
  {
   "cell_type": "code",
   "execution_count": 25,
   "metadata": {},
   "outputs": [],
   "source": [
    "def showImg(imgage):\n",
    "    cv2.imshow(\"shinchon20200526\", imgage)\n",
    "    cv2.waitKey(0)\n",
    "    cv2.destroyAllWindows()"
   ]
  },
  {
   "cell_type": "code",
   "execution_count": 23,
   "metadata": {},
   "outputs": [],
   "source": [
    "# 위 예제의 빨간 사각형을 이미지의 왼쪽 아래 모서리에 바짝 붙여서 표시하세요\n",
    "img = readImg()\n",
    "img[550:599, 0:49] = (0,0,255)\n",
    "showImg()"
   ]
  },
  {
   "cell_type": "markdown",
   "metadata": {},
   "source": [
    "##### 사각형 그리기\n",
    "* (150, 50) : 왼쪽 위모서리 좌표, (200, 100): 오른쪽 아래 모서리 좌표\n",
    "* (0, 255, 0):색깔, 5:굵기    "
   ]
  },
  {
   "cell_type": "code",
   "execution_count": 27,
   "metadata": {},
   "outputs": [],
   "source": [
    "img = readImg()\n",
    "cv2.rectangle(img, (150, 50), (200, 100), (0, 255, 0), 5)\n",
    "showImg(img)"
   ]
  },
  {
   "cell_type": "markdown",
   "metadata": {},
   "source": [
    "##### 원 그리기\n",
    "* 중점좌표 (275,75), 반지름 30, 색(0, 255, 255), 선굵기 -1\n",
    "* (선굵기가 -1 이면 선없이 내부를 채움)"
   ]
  },
  {
   "cell_type": "code",
   "execution_count": 30,
   "metadata": {},
   "outputs": [],
   "source": [
    "img = readImg()\n",
    "cv2.circle(img, (275, 75), 30, (0, 255, 255), -1)\n",
    "showImg(img)"
   ]
  },
  {
   "cell_type": "markdown",
   "metadata": {},
   "source": [
    "##### 선 그리기\n",
    "* 한쪽끝 좌표(350, 100), 반대쪽 좌표 (500, 100), 선색(255, 255, 0), 굵기 5"
   ]
  },
  {
   "cell_type": "code",
   "execution_count": 32,
   "metadata": {},
   "outputs": [],
   "source": [
    "img = readImg()\n",
    "cv2.line(img, (350, 100), (500, 100), (255, 255, 0), 5)\n",
    "showImg(img)"
   ]
  },
  {
   "cell_type": "markdown",
   "metadata": {},
   "source": [
    "##### 텍스트 써넣기\n",
    "* 위치(450, 100), 폰트 cv2.FONT_HERSHEY_SIMPLEX(cv2내장웹폰트), \n",
    "* 글자 크기 1, 글자색 (255, 255, 255), 굵기 4"
   ]
  },
  {
   "cell_type": "code",
   "execution_count": 33,
   "metadata": {},
   "outputs": [],
   "source": [
    "img = readImg()\n",
    "cv2.putText(img, 'Raining Sinchon', (150, 150), cv2.FONT_HERSHEY_SIMPLEX, 1, \\\n",
    "                                                                (255, 255, 255), 4)\n",
    "showImg(img)"
   ]
  },
  {
   "cell_type": "code",
   "execution_count": null,
   "metadata": {},
   "outputs": [],
   "source": []
  }
 ],
 "metadata": {
  "kernelspec": {
   "display_name": "Python 3",
   "language": "python",
   "name": "python3"
  },
  "language_info": {
   "codemirror_mode": {
    "name": "ipython",
    "version": 3
   },
   "file_extension": ".py",
   "mimetype": "text/x-python",
   "name": "python",
   "nbconvert_exporter": "python",
   "pygments_lexer": "ipython3",
   "version": "3.8.5"
  }
 },
 "nbformat": 4,
 "nbformat_minor": 4
}
