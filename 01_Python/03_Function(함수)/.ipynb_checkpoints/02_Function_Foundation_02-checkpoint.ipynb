{
 "cells": [
  {
   "cell_type": "markdown",
   "metadata": {},
   "source": [
    "#### 반지름을 입력 받아 넓이와 둘레를 출력하세요"
   ]
  },
  {
   "cell_type": "code",
   "execution_count": 1,
   "metadata": {},
   "outputs": [],
   "source": [
    "def inputData():\n",
    "    return int( input(\"반지름 입력 : \") )"
   ]
  },
  {
   "cell_type": "code",
   "execution_count": 2,
   "metadata": {},
   "outputs": [],
   "source": [
    "def cal_n(b):\n",
    "    return b*b*3.141592"
   ]
  },
  {
   "cell_type": "code",
   "execution_count": 3,
   "metadata": {},
   "outputs": [],
   "source": [
    "def cal_d(b):\n",
    "    a = 2*b*3.141592\n",
    "    return a"
   ]
  },
  {
   "cell_type": "code",
   "execution_count": 4,
   "metadata": {},
   "outputs": [],
   "source": [
    "def prnResult(n, d):\n",
    "    print(\"입력한 원의 넓이 : %0.2f\" % (n))\n",
    "    print(\"입력한 원의 둘레 : %0.2f\" % (d))"
   ]
  },
  {
   "cell_type": "code",
   "execution_count": 5,
   "metadata": {},
   "outputs": [
    {
     "name": "stdout",
     "output_type": "stream",
     "text": [
      "반지름 입력 : 15\n",
      "입력한 원의 넓이 : 706.86\n",
      "입력한 원의 둘레 : 94.25\n"
     ]
    }
   ],
   "source": [
    "ban = inputData()\n",
    "n = cal_n(ban)\n",
    "d = cal_d(ban)\n",
    "prnResult(n, d)"
   ]
  },
  {
   "cell_type": "markdown",
   "metadata": {},
   "source": [
    "#### 숫자 하나를 입력받아서   입력받은 숫자의 팩터리얼을 계산하는 \n",
    "#### 함수를 만들어 이용하고  출력하시오\n",
    "* 정수 입력 : 6\n",
    "* 6! = 1x2x3x4x5x6 = 720"
   ]
  },
  {
   "cell_type": "code",
   "execution_count": 6,
   "metadata": {},
   "outputs": [],
   "source": [
    "def factorial(num):\n",
    "    fact = 1\n",
    "    for i in range(1, num+1):\n",
    "        print(\"%dx\" % i, end=\"\")\n",
    "        fact *= i\n",
    "    return fact"
   ]
  },
  {
   "cell_type": "code",
   "execution_count": 7,
   "metadata": {},
   "outputs": [
    {
     "name": "stdout",
     "output_type": "stream",
     "text": [
      "정수 입력 : 6\n",
      "6 ! = 1x2x3x4x5x6 = 720\n"
     ]
    }
   ],
   "source": [
    "n = int( input(\"정수 입력 : \") )\n",
    "print(\"%d ! = \" % n, end=\"\" )\n",
    "f = factorial(n)   # 함수 호출 (전달인수 있고, 리턴값도 있음)\n",
    "print(\"\\b = %d\" % f)"
   ]
  },
  {
   "cell_type": "code",
   "execution_count": null,
   "metadata": {},
   "outputs": [],
   "source": []
  }
 ],
 "metadata": {
  "kernelspec": {
   "display_name": "Python 3",
   "language": "python",
   "name": "python3"
  },
  "language_info": {
   "codemirror_mode": {
    "name": "ipython",
    "version": 3
   },
   "file_extension": ".py",
   "mimetype": "text/x-python",
   "name": "python",
   "nbconvert_exporter": "python",
   "pygments_lexer": "ipython3",
   "version": "3.8.5"
  }
 },
 "nbformat": 4,
 "nbformat_minor": 4
}
