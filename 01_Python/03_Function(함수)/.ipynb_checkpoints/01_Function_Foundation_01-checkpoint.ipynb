{
 "cells": [
  {
   "cell_type": "markdown",
   "metadata": {},
   "source": [
    "#### 함수(Function)\n",
    "* 입력 값을 주면 해당하는 연산후 출력값을 내어 놓는 도구\n",
    "* 필요에 따라 입력값이나 출력값을 생략되고 해당하는 연산 및 명령 실행만 이루어지는 함수도 있습니다\n",
    "* 함수는 고유한 이름을 갖고 있으며, 사용시 이름과 그옆에 괄호를 항상 표시해서 사용합니다"
   ]
  },
  {
   "cell_type": "code",
   "execution_count": 6,
   "metadata": {
    "scrolled": true
   },
   "outputs": [
    {
     "name": "stdout",
     "output_type": "stream",
     "text": [
      "1 번 학생의 1 번째 과목 입력:58\n",
      "1 번 학생의 2 번째 과목 입력:78\n",
      "1 번 학생의 3 번째 과목 입력:98\n",
      "2 번 학생의 1 번째 과목 입력:59\n",
      "2 번 학생의 2 번째 과목 입력:78\n",
      "2 번 학생의 3 번째 과목 입력:69\n",
      "3 번 학생의 1 번째 과목 입력:88\n",
      "3 번 학생의 2 번째 과목 입력:77\n",
      "3 번 학생의 3 번째 과목 입력:99\n",
      "\t\t### 성적표 ###\n",
      "--------------------------------------------------\n",
      "번호\t국어\t영어\t수학\t총점\t평균\n",
      "--------------------------------------------------\n",
      "1\t58\t78\t98\t234\t78.00\n",
      "2\t59\t78\t69\t206\t68.67\n",
      "3\t88\t77\t99\t264\t88.00\n",
      "--------------------------------------------------\n"
     ]
    }
   ],
   "source": [
    "#  점수 입력 후   입력된 점수들을 리스트에 저장\n",
    "score = [] # 비어있는 리스트 생성 - 학생세명, 세과목점수들이 저장될 2차월 리스트\n",
    "for i in range(0,3) : # 3명의 학생의 점수를 입력 받기 위한 반복실행문\n",
    "    t  =[] # 비어 있는 리스트 생성 - 3과목의 점수를 저장하기 위한 1차원 리스트\n",
    "    for j in range(0,3) :\n",
    "        # 점수 입력\n",
    "        print(\"%d 번 학생의 %d 번째 과목 \" % (i+1, j+1), end=\"\")\n",
    "        jumsoo = int( input(\"입력:\") )\n",
    "        # 입력 된점수를 t 리스트에 추가(append 함수 이용)\n",
    "        t.append(jumsoo)\n",
    "        # 98입력->t:[98]  85입력->t:[98, 85]  88입력->t:[98,85,88]\n",
    "        #print(\"t 리스트 : \", t)\n",
    "    score.append(t)\n",
    "    #print(\"score 리스트 :  \", score)\n",
    "    # s.append(t) -> s:[ [98,85,88] ]  : 이와 같은 동작을 3번 반복 \n",
    "    # 최종 s:[[98,85,88],[XX,XX,XX],[XX,XX,XX]] 완성\n",
    "# print(score)\n",
    "\n",
    "\n",
    "# 총점 계산\n",
    "total = []\n",
    "for sc in score : # score 리스트에 있던 각 1차원 리스트들을 sc 에 하나씩 할당\n",
    "    sum = 0\n",
    "    for s in sc : # sc 리스트에 있던 각 점수들을 s 에 하나씩 할당\n",
    "        sum = sum + s\n",
    "    total.append(sum)\n",
    "\n",
    "# 평균 계산\n",
    "average = []\n",
    "for t in total :\n",
    "    average.append( t/3 )\n",
    "\n",
    "# 성적표 타이틀 출력\n",
    "print(\"\\t\\t### 성적표 ###\")\n",
    "print(\"-\"*50)\n",
    "print(\"번호\\t국어\\t영어\\t수학\\t총점\\t평균\")\n",
    "print(\"-\"*50)\n",
    "\n",
    "# 성적 출력\n",
    "for i in range(0,3):\n",
    "    print(\"%d\\t\" % (i+1), end=\"\") # 번호 출력\n",
    "    for j in range(0,3):\n",
    "        print(\"%d\\t\" % (score[i][j]), end=\"\") # 과목점수들 출력\n",
    "    print(\"%d\\t%0.2f\" % (total[i], average[i])) # 총점 평균듣 출력\n",
    "print(\"-\"*50)     "
   ]
  },
  {
   "cell_type": "markdown",
   "metadata": {},
   "source": [
    "### 함수의 생성\n",
    "* def 함수이름():\n",
    "* ....명령문1\n",
    "* ....명령문2\n",
    "*    ....\n",
    "* 위와 같이 생성하고 함수의 이름으로 호출해서 사용합니다"
   ]
  },
  {
   "cell_type": "code",
   "execution_count": 14,
   "metadata": {},
   "outputs": [],
   "source": [
    "# 첫번째 함수 : 입력값 없고, 출력값 없으며, 해당 명령만 실행하는 예\n",
    "# 실행 내용만을 포함한 함수.   전달인수, 리턴값 없음\n",
    "def prnTitle() :\n",
    "    print(\"\\t\\t### 성적표 ###\")\n",
    "    print(\"-\"*50)\n",
    "    print(\"번호\\t국어\\t영어\\t수학\\t총점\\t평균\")\n",
    "    print(\"-\"*50)"
   ]
  },
  {
   "cell_type": "code",
   "execution_count": 15,
   "metadata": {},
   "outputs": [],
   "source": [
    "# 리턴값있고, 전달인수 없고\n",
    "def inputData():\n",
    "    score = [] \n",
    "    for i in range(0,3) : \n",
    "        t  =[]\n",
    "        for j in range(0,3) :\n",
    "            print(\"%d 번 학생의 %d 번째 과목 \" % (i+1, j+1), end=\"\")\n",
    "            jumsoo = int( input(\"입력:\") )\n",
    "            t.append(jumsoo)\n",
    "        score.append(t)\n",
    "    return score\n",
    "# 본프로그램의 score 변수와 inputData 함수의 score 변수는 서로 다른 지역 변수\n",
    "# 입니다. 이름만 같을 뿐 다른 변수로 인식됩니다."
   ]
  },
  {
   "cell_type": "code",
   "execution_count": 22,
   "metadata": {},
   "outputs": [],
   "source": [
    "#전달인수 있고, 리턴값 있고\n",
    "def calTot(score) : \n",
    "    total = []\n",
    "    for sc in score:\n",
    "        sum = 0\n",
    "        for s in sc:\n",
    "            sum = sum + s\n",
    "        total.append(sum)\n",
    "    return total\n",
    "#평균 계산하는 함수\n",
    "def calAverage( total ) :\n",
    "    average = []\n",
    "    for t in total :\n",
    "        average.append( t/3 )\n",
    "    return average"
   ]
  },
  {
   "cell_type": "code",
   "execution_count": 23,
   "metadata": {},
   "outputs": [],
   "source": [
    "# 전달인수 있고, 리턴값 없고\n",
    "def prnScore(score, total, average):\n",
    "    for i in range(0,3):\n",
    "        print(\"%d\\t\" % (i+1), end=\"\") \n",
    "        for j in range(0,3):\n",
    "            print(\"%d\\t\" % (score[i][j]), end=\"\") \n",
    "        print(\"%d\\t%0.2f\" % (total[i], average[i])) \n",
    "    print(\"-\"*50)  "
   ]
  },
  {
   "cell_type": "code",
   "execution_count": 24,
   "metadata": {},
   "outputs": [
    {
     "name": "stdout",
     "output_type": "stream",
     "text": [
      "1 번 학생의 1 번째 과목 입력:87\n",
      "1 번 학생의 2 번째 과목 입력:89\n",
      "1 번 학생의 3 번째 과목 입력:69\n",
      "2 번 학생의 1 번째 과목 입력:87\n",
      "2 번 학생의 2 번째 과목 입력:55\n",
      "2 번 학생의 3 번째 과목 입력:77\n",
      "3 번 학생의 1 번째 과목 입력:88\n",
      "3 번 학생의 2 번째 과목 입력:99\n",
      "3 번 학생의 3 번째 과목 입력:87\n",
      "[245, 219, 274]\n",
      "[81.66666666666667, 73.0, 91.33333333333333]\n",
      "\t\t### 성적표 ###\n",
      "--------------------------------------------------\n",
      "번호\t국어\t영어\t수학\t총점\t평균\n",
      "--------------------------------------------------\n",
      "1\t87\t89\t69\t245\t81.67\n",
      "2\t87\t55\t77\t219\t73.00\n",
      "3\t88\t99\t87\t274\t91.33\n",
      "--------------------------------------------------\n"
     ]
    }
   ],
   "source": [
    "#  점수 입력 \n",
    "score = inputData()\n",
    "# 총점 계산\n",
    "total = calTot(score)\n",
    "# 평균 계산\n",
    "average = calAverage(total)\n",
    "# 성적표 타이틀 출력\n",
    "prnTitle()\n",
    "# 성적 출력\n",
    "prnScore( score, total, average)   "
   ]
  },
  {
   "cell_type": "code",
   "execution_count": null,
   "metadata": {},
   "outputs": [],
   "source": []
  }
 ],
 "metadata": {
  "kernelspec": {
   "display_name": "Python 3",
   "language": "python",
   "name": "python3"
  },
  "language_info": {
   "codemirror_mode": {
    "name": "ipython",
    "version": 3
   },
   "file_extension": ".py",
   "mimetype": "text/x-python",
   "name": "python",
   "nbconvert_exporter": "python",
   "pygments_lexer": "ipython3",
   "version": "3.8.5"
  }
 },
 "nbformat": 4,
 "nbformat_minor": 4
}
