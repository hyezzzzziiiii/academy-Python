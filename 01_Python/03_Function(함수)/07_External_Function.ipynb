{
 "cells": [
  {
   "cell_type": "markdown",
   "metadata": {},
   "source": [
    "* Internal Function 이  미리 내장된 함수를 이름불러 사용되는 것이라면 External Function 은 외부에 준비된 함수들의 그룹(모듈)을 import 하여 사용하는 것을 말합니다.\n",
    "* External Function 은 외부에 있는 모듈을 불러와야하기때문에 해당 함수가 포함된 모듈을 import  해야 사용할 수 있으며, 필요에 따라 추가로 설치(install) 작업을 실행해야 할 때도 있습니다"
   ]
  },
  {
   "cell_type": "code",
   "execution_count": 1,
   "metadata": {},
   "outputs": [],
   "source": [
    "# 랜덤한 숫자를 추출하기 위한 모듈   random\n",
    "import random"
   ]
  },
  {
   "cell_type": "code",
   "execution_count": 2,
   "metadata": {},
   "outputs": [
    {
     "name": "stdout",
     "output_type": "stream",
     "text": [
      "72 44 4 53 13 77 81 10 51 32 2 83 31 60 86 31 43 55 60 32 94 94 42 36 27 55 22 25 72 10 "
     ]
    }
   ],
   "source": [
    "# 1 부터 100 사이의 숫자중 랜덤한 숫자를 골라 30번 출력합니다\n",
    "for i in range(0,30):\n",
    "    a = random.randint(1,100)\n",
    "    print(a, end=\" \")"
   ]
  },
  {
   "cell_type": "markdown",
   "metadata": {},
   "source": [
    "### 1부터 45 사이의 숫자 6개를   뽑아서  오름차순 정렬한 후 출력하세요"
   ]
  },
  {
   "cell_type": "code",
   "execution_count": 6,
   "metadata": {},
   "outputs": [
    {
     "name": "stdout",
     "output_type": "stream",
     "text": [
      "[2, 2, 7, 7, 23, 25]\n"
     ]
    }
   ],
   "source": [
    "import random\n",
    "lotto = []\n",
    "for i in range(6):\n",
    "    a = random.randint(1,45)\n",
    "    lotto.append(a)\n",
    "lotto.sort()\n",
    "print(lotto)"
   ]
  },
  {
   "cell_type": "code",
   "execution_count": 7,
   "metadata": {},
   "outputs": [
    {
     "name": "stdout",
     "output_type": "stream",
     "text": [
      "[10, 34, 35, 36, 43, 44]\n"
     ]
    }
   ],
   "source": [
    "# 중복을 제거한 로또 번호 발생 #1\n",
    "# 집합(Set) 생성 - 6개 숫자 랜덤 생성 - set 에 추가( lotto.add() )\n",
    "# set 를 list 로 변환   - list 정렬 - 출력\n",
    "lotto = set()\n",
    "while len(lotto) < 6:\n",
    "    a = random.randint(1,45)\n",
    "    lotto.add(a)\n",
    "lotto = list(lotto)\n",
    "lotto.sort()\n",
    "print(lotto)"
   ]
  },
  {
   "cell_type": "code",
   "execution_count": 8,
   "metadata": {},
   "outputs": [
    {
     "name": "stdout",
     "output_type": "stream",
     "text": [
      "[2, 5, 7, 14, 16, 22]\n"
     ]
    }
   ],
   "source": [
    "# 중복을 제거한 로또 번호 발생 #2\n",
    "# 리스트 생성 - 6번 반복에 의해 6개의 랜덤숫자 생성 - \n",
    "# 기존 발생 숫자와 같은값이 나오면 다시 생성( in 명령 사용)\n",
    "# 정렬 후 출력\n",
    "lotto = []\n",
    "for i in range(6):\n",
    "    a = random.randint(1,45)\n",
    "    while a in lotto:\n",
    "        a = random.randint(1,45)\n",
    "    lotto.append(a)\n",
    "lotto.sort()\n",
    "print(lotto)"
   ]
  },
  {
   "cell_type": "code",
   "execution_count": 9,
   "metadata": {},
   "outputs": [
    {
     "name": "stdout",
     "output_type": "stream",
     "text": [
      "13  19  21  22  23  24  \n",
      " 5  17  22  27  37  39  \n",
      "18  22  29  32  41  43  \n",
      " 8  13  14  21  30  31  \n",
      " 1   5  17  18  25  35  \n"
     ]
    }
   ],
   "source": [
    "# 방법 1, 2중 하나를 선택해서   5세트를 출력해주세요\n",
    "for i in range(5):\n",
    "    lotto = set()\n",
    "    while len(lotto) < 6:\n",
    "        a = random.randint(1,45)\n",
    "        lotto.add(a)\n",
    "    lotto = list(lotto)\n",
    "    lotto.sort()\n",
    "    for k in lotto:\n",
    "        print(\"%2d\" % k, end=\"  \")\n",
    "    print()"
   ]
  },
  {
   "cell_type": "code",
   "execution_count": null,
   "metadata": {},
   "outputs": [],
   "source": []
  }
 ],
 "metadata": {
  "kernelspec": {
   "display_name": "Python 3",
   "language": "python",
   "name": "python3"
  },
  "language_info": {
   "codemirror_mode": {
    "name": "ipython",
    "version": 3
   },
   "file_extension": ".py",
   "mimetype": "text/x-python",
   "name": "python",
   "nbconvert_exporter": "python",
   "pygments_lexer": "ipython3",
   "version": "3.8.5"
  }
 },
 "nbformat": 4,
 "nbformat_minor": 4
}
