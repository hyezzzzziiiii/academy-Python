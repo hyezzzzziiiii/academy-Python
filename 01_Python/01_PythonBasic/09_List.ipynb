{
 "cells": [
  {
   "cell_type": "markdown",
   "metadata": {},
   "source": [
    "#### List(리스트)\n",
    "* 타 프로그래밍 언어의 배열과 비슷한 구조입니다\n",
    "* 리스트 안에는 다수개의 데이터를 저장할 수 있습니다, \n",
    "* 하나의 리스트에 하나의 변수이름을 부여하여 그룹데이터를 구성하여 사용하는것이 목적입니다\n",
    "* 리스트 안의 데이터는 숫자 문자 객체 등 다양한 자료가 같이 저장 될 수 있습니다\n",
    "* a =[1,2,3,4,5] 이와 같이 [ ] 괄호로 묶어서 표현하고, 인덱싱과 슬라이싱이 가능합니다"
   ]
  },
  {
   "cell_type": "code",
   "execution_count": 1,
   "metadata": {},
   "outputs": [
    {
     "name": "stdout",
     "output_type": "stream",
     "text": [
      "[]\n",
      "[1, 2, 3]\n",
      "['Life', 'is', 'too', 'short']\n",
      "[1, 2, 'Life', 'is']\n",
      "[1, 2, ['Life', 'is']]\n",
      "<class 'list'>\n"
     ]
    }
   ],
   "source": [
    "# 리스트의 여러가지 자료 구성 예\n",
    "a = []  # 비어 있는 리스트\n",
    "b = [1,2,3]\n",
    "c = ['Life', 'is', 'too', 'short']\n",
    "d = [1, 2, 'Life', 'is']   # 두개이상의 자료형이 하나의 리스트에 저장하는 경우\n",
    "e = [1, 2, ['Life', 'is'] ]   # 리스트 요소중 하나 가 리스트로 존재하는 경우\n",
    "print(a)\n",
    "print(b)\n",
    "print(c)\n",
    "print(d)\n",
    "print(e)\n",
    "print( type(a))"
   ]
  },
  {
   "cell_type": "code",
   "execution_count": 2,
   "metadata": {},
   "outputs": [
    {
     "name": "stdout",
     "output_type": "stream",
     "text": [
      "[1, 2, 3]\n",
      "1\n",
      "2\n",
      "5\n",
      "3\n"
     ]
    }
   ],
   "source": [
    "# List 의 인덱싱\n",
    "a = [1,2,3]\n",
    "print(a)\n",
    "print( a[0] )\n",
    "print( a[1] )\n",
    "print( a[1] + a[2])  # 산술 덧셈\n",
    "print( a[-1] )"
   ]
  },
  {
   "cell_type": "code",
   "execution_count": 3,
   "metadata": {},
   "outputs": [
    {
     "name": "stdout",
     "output_type": "stream",
     "text": [
      "1\n",
      "['a', 'b', 'c']\n",
      "['a', 'b', 'c']\n",
      "b\n",
      "c\n",
      "a\n"
     ]
    }
   ],
   "source": [
    "# 리스트 안의 리스트 \n",
    "# 2차원 배열과 비슷한 구조. 1차 인덱싱에 의해 한번에 지목이 가능함\n",
    "a = [1,2,3,['a','b','c']]\n",
    "print(a[0])\n",
    "print(a[-1])\n",
    "print(a[3])\n",
    "# 리스트 안의 리스트 하나하나의 값들은 2차 인덱싱에 의해 접근\n",
    "print( a[-1][1] )\n",
    "print( a[-1][-1] )\n",
    "print( a[3][0] )"
   ]
  },
  {
   "cell_type": "code",
   "execution_count": 4,
   "metadata": {},
   "outputs": [
    {
     "name": "stdout",
     "output_type": "stream",
     "text": [
      "Life\n",
      "is\n"
     ]
    }
   ],
   "source": [
    "a = [1, 2, ['a', 'b', ['Life', 'is']]]\n",
    "print( a[2][2][0])\n",
    "print( a[2][2][1])"
   ]
  },
  {
   "cell_type": "code",
   "execution_count": 5,
   "metadata": {},
   "outputs": [
    {
     "name": "stdout",
     "output_type": "stream",
     "text": [
      "[1, 2, 3]\n"
     ]
    }
   ],
   "source": [
    "# 슬라이싱\n",
    "\n",
    "# a[시작 인덱스 : 끝인덱스 + 1]\n",
    "a = [1,2,3,4,5]\n",
    "print( a[0:3])"
   ]
  },
  {
   "cell_type": "code",
   "execution_count": 6,
   "metadata": {},
   "outputs": [
    {
     "name": "stdout",
     "output_type": "stream",
     "text": [
      "['Seoul', 'Incheon', 'Daejeon', 'Daegoo', 'Busan', 'Gwangjoo', 'Jeonjoo']\n",
      "abcdefg\n"
     ]
    }
   ],
   "source": [
    "c = ['Seoul', 'Incheon', 'Daejeon', 'Daegoo', 'Busan', 'Gwangjoo', 'Jeonjoo']\n",
    "# 슬라이싱에 사용한 인데스 숫자가 리스트의 범위를 넘어갈결우 자동 최대 범위가 \n",
    "# 지정됩니다\n",
    "print( c[0:50] )\n",
    "a = \"abcdefg\"\n",
    "print(a[0:50])"
   ]
  },
  {
   "cell_type": "code",
   "execution_count": 7,
   "metadata": {},
   "outputs": [
    {
     "name": "stdout",
     "output_type": "stream",
     "text": [
      "['Seoul', 'Daejeon', 'Busan', 'Jeonjoo']\n",
      "['Jeonjoo', 'Gwangjoo', 'Busan', 'Daegoo', 'Daejeon', 'Incheon', 'Seoul']\n",
      "['Jeonjoo', 'Gwangjoo', 'Busan', 'Daegoo', 'Daejeon', 'Incheon', 'Seoul']\n"
     ]
    }
   ],
   "source": [
    "# 슬라이싱은 원래 3개의 숫자로 이루어져 있습니다\n",
    "\n",
    "# 리스트이름(시작인덱스:끝인덱스+1:증감량)\n",
    "c = ['Seoul', 'Incheon', 'Daejeon', 'Daegoo', 'Busan', 'Gwangjoo', 'Jeonjoo']\n",
    "# 두칸씩 이동\n",
    "print(c[ : : 2])\n",
    "# 반대방향으로 이동\n",
    "print(c[::-1])\n",
    "print(c[-1:-8:-1])"
   ]
  },
  {
   "cell_type": "code",
   "execution_count": 8,
   "metadata": {},
   "outputs": [
    {
     "name": "stdout",
     "output_type": "stream",
     "text": [
      "['Seoul', 'Incheon', 'Daejeon', 'Daegoo', 'Busan']\n",
      "['Daejeon', 'Daegoo', 'Busan', 'Gwangjoo', 'Jeonjoo']\n"
     ]
    }
   ],
   "source": [
    "# 슬라싱의 해당 인덱스를 안쓰면 적용되는 기본값\n",
    "# 시작인덱스 생략 : 처음부터 \n",
    "# 끝인덱스 + 1 생략 : 끝까지\n",
    "# 증감량 : 1\n",
    "print( c[:5])\n",
    "print( c[2:])"
   ]
  },
  {
   "cell_type": "code",
   "execution_count": 9,
   "metadata": {},
   "outputs": [
    {
     "name": "stdout",
     "output_type": "stream",
     "text": [
      "[3, ['a', 'b', 'c'], 4]\n",
      "['a', 'b']\n"
     ]
    }
   ],
   "source": [
    "# 리스트 안의 리스트가 있는 경우의 슬라이싱\n",
    "a = [1,2,3,['a','b','c'], 4, 5]\n",
    "print(a[2:5])\n",
    "print(a[3][:2])"
   ]
  },
  {
   "cell_type": "code",
   "execution_count": 10,
   "metadata": {},
   "outputs": [
    {
     "name": "stdout",
     "output_type": "stream",
     "text": [
      "[1, 2, 3, 4, 4, 6, 7, 8]\n",
      "[1, 2, 3, 4, 1, 2, 3, 4, 1, 2, 3, 4]\n"
     ]
    }
   ],
   "source": [
    "# 리스트 간의 연산\n",
    "\n",
    "# 리스트 더하기 - 각 리스트를 이어붙여서 하나의 합집합 형식의 리스트로 만듭니다\n",
    "a = [1,2,3,4]\n",
    "b = [4,6,7,8]\n",
    "print( a+b )\n",
    "#리스트 곱하기 -  리스트에 있는 요소들을 승수 만큼 반복해서 리스트 갯수를 늘림니다\n",
    "print( a*3 )"
   ]
  },
  {
   "cell_type": "code",
   "execution_count": 11,
   "metadata": {},
   "outputs": [
    {
     "name": "stdout",
     "output_type": "stream",
     "text": [
      "[1, 2, 9, 4]\n"
     ]
    }
   ],
   "source": [
    "# 리스트의 수정, 변경 및 삭제\n",
    "\n",
    "# 리스트 값 수정(한개 요소를 하나의 요소로 1:1 수정) \n",
    "# 인덱싱에 의한 한개의 데이터 수정\n",
    "a = [1,2,3,4]\n",
    "a[2] = 9\n",
    "print(a)"
   ]
  },
  {
   "cell_type": "code",
   "execution_count": 12,
   "metadata": {},
   "outputs": [
    {
     "name": "stdout",
     "output_type": "stream",
     "text": [
      "[1, 'a', 'b', 'c', 4]\n"
     ]
    }
   ],
   "source": [
    "# 리스트에서 연속된 값 수정 - n:n(다:다)수정\n",
    "# 일부 다수 요소를 다소요소로 대체 하므로 \n",
    "# 결과는 역시 1차원 리스트입니다\n",
    "a = [1,2,3,4]\n",
    "a[1:3] = ['a','b','c']\n",
    "print(a)"
   ]
  },
  {
   "cell_type": "code",
   "execution_count": 13,
   "metadata": {},
   "outputs": [
    {
     "name": "stdout",
     "output_type": "stream",
     "text": [
      "[1, ['a', 'b', 'c'], 3, 4]\n"
     ]
    }
   ],
   "source": [
    "# 리스트에서 한개의 요소를 리스트로 수정 \n",
    "# 1:n 수정 1개의 요소가 리스트로 대체 되는 형식이어서\n",
    "# 리스트 안의 리스트(중첩 리스트)-2차원 리스트가 결과로 나옵니다\n",
    "a = [1,2,3,4]\n",
    "a[1] = ['a','b','c']\n",
    "print(a)"
   ]
  },
  {
   "cell_type": "code",
   "execution_count": 14,
   "metadata": {},
   "outputs": [
    {
     "name": "stdout",
     "output_type": "stream",
     "text": [
      "[1, 4]\n",
      "[1, 3, 4]\n"
     ]
    }
   ],
   "source": [
    "# 리스트에서 [ ] 를 사용하여 요소 삭제\n",
    "\n",
    "# 빈 리스트로 대체하여 삭제\n",
    "a = [1,2,3,4]\n",
    "a[1:3] = []\n",
    "print(a)\n",
    "\n",
    "# del  명령 이용\n",
    "a = [1,2,3,4]\n",
    "del a[1]\n",
    "print(a)"
   ]
  },
  {
   "cell_type": "code",
   "execution_count": null,
   "metadata": {},
   "outputs": [],
   "source": []
  }
 ],
 "metadata": {
  "kernelspec": {
   "display_name": "Python 3",
   "language": "python",
   "name": "python3"
  },
  "language_info": {
   "codemirror_mode": {
    "name": "ipython",
    "version": 3
   },
   "file_extension": ".py",
   "mimetype": "text/x-python",
   "name": "python",
   "nbconvert_exporter": "python",
   "pygments_lexer": "ipython3",
   "version": "3.8.5"
  }
 },
 "nbformat": 4,
 "nbformat_minor": 4
}
