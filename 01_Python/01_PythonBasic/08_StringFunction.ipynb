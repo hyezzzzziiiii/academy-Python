{
 "cells": [
  {
   "cell_type": "markdown",
   "metadata": {},
   "source": [
    "#### 문자열 관련 활용 가능한 도구(함수)들\n",
    "* 문자열 대상 도구들이므로, 대상 문자열의뒤에 (.) 을찍고 이어서 도구(함수)의 이름을 써서 실행합니다"
   ]
  },
  {
   "cell_type": "code",
   "execution_count": 1,
   "metadata": {},
   "outputs": [
    {
     "name": "stdout",
     "output_type": "stream",
     "text": [
      "2\n",
      "2\n"
     ]
    }
   ],
   "source": [
    "# 문자열 내에 특정 문자 갯수를 세어줍니다\n",
    "a = \"hobby\"\n",
    "print( a.count(\"b\") )    # 타 프로그램 언어의 사용예  count(a, \"b\")\n",
    "print( \"hobby\".count(\"b\") )"
   ]
  },
  {
   "cell_type": "code",
   "execution_count": 2,
   "metadata": {},
   "outputs": [
    {
     "name": "stdout",
     "output_type": "stream",
     "text": [
      "10\n",
      "-1\n"
     ]
    }
   ],
   "source": [
    "# 문자 위치 정보 1 - 문자가 있으면 위치값, 없으면 -1 리턴\n",
    "# 위치 정보는 0부터 시작하며 공백(' ')도 하나의 글자로 인식됩니다\n",
    "# 검색시 대소문자는 철저히 구분됩니다\n",
    "a = \"Python is best choice\"\n",
    "print( a.find(\"b\"))\n",
    "print( \"Python is best choice\".find(\"k\"))"
   ]
  },
  {
   "cell_type": "code",
   "execution_count": 3,
   "metadata": {},
   "outputs": [
    {
     "name": "stdout",
     "output_type": "stream",
     "text": [
      "10\n"
     ]
    },
    {
     "ename": "ValueError",
     "evalue": "substring not found",
     "output_type": "error",
     "traceback": [
      "\u001b[1;31m---------------------------------------------------------------------------\u001b[0m",
      "\u001b[1;31mValueError\u001b[0m                                Traceback (most recent call last)",
      "\u001b[1;32m<ipython-input-3-e7ea974d6fbb>\u001b[0m in \u001b[0;36m<module>\u001b[1;34m\u001b[0m\n\u001b[0;32m      2\u001b[0m \u001b[0ma\u001b[0m \u001b[1;33m=\u001b[0m \u001b[1;34m\"Python is best choice\"\u001b[0m\u001b[1;33m\u001b[0m\u001b[1;33m\u001b[0m\u001b[0m\n\u001b[0;32m      3\u001b[0m \u001b[0mprint\u001b[0m\u001b[1;33m(\u001b[0m \u001b[0ma\u001b[0m\u001b[1;33m.\u001b[0m\u001b[0mindex\u001b[0m\u001b[1;33m(\u001b[0m\u001b[1;34m\"b\"\u001b[0m\u001b[1;33m)\u001b[0m\u001b[1;33m)\u001b[0m\u001b[1;33m\u001b[0m\u001b[1;33m\u001b[0m\u001b[0m\n\u001b[1;32m----> 4\u001b[1;33m \u001b[0mprint\u001b[0m\u001b[1;33m(\u001b[0m \u001b[0ma\u001b[0m\u001b[1;33m.\u001b[0m\u001b[0mindex\u001b[0m\u001b[1;33m(\u001b[0m\u001b[1;34m\"k\"\u001b[0m\u001b[1;33m)\u001b[0m\u001b[1;33m)\u001b[0m\u001b[1;33m\u001b[0m\u001b[1;33m\u001b[0m\u001b[0m\n\u001b[0m",
      "\u001b[1;31mValueError\u001b[0m: substring not found"
     ]
    }
   ],
   "source": [
    "# 문자 위치 정보 2 - 문자가 있으면 위치값, 없으면 오류 발생\n",
    "a = \"Python is best choice\"\n",
    "print( a.index(\"b\"))\n",
    "print( a.index(\"k\"))"
   ]
  },
  {
   "cell_type": "code",
   "execution_count": 4,
   "metadata": {},
   "outputs": [
    {
     "name": "stdout",
     "output_type": "stream",
     "text": [
      "a,b,c,d\n",
      "a-b-c-d\n"
     ]
    }
   ],
   "source": [
    "# 문자열 삽입  Join\n",
    "a = \",\"\n",
    "print( a.join( \"abcd\" ) )\n",
    "a = \"-\"\n",
    "print( a.join( \"abcd\" ) )"
   ]
  },
  {
   "cell_type": "code",
   "execution_count": 5,
   "metadata": {},
   "outputs": [
    {
     "name": "stdout",
     "output_type": "stream",
     "text": [
      "HELLO\n",
      "hello\n"
     ]
    }
   ],
   "source": [
    "# 소문자를 대문자로 변환\n",
    "a = \"hello\"\n",
    "print( a.upper() )\n",
    "# 대문자를 소문자로 변환\n",
    "a = \"HELLO\"\n",
    "print(a.lower())"
   ]
  },
  {
   "cell_type": "code",
   "execution_count": 6,
   "metadata": {},
   "outputs": [
    {
     "name": "stdout",
     "output_type": "stream",
     "text": [
      "before :     hi!\n",
      "result : hi!\n",
      "before : hi    !\n",
      "result : hi!\n",
      "before :       hi     !\n",
      "result : hi!\n"
     ]
    }
   ],
   "source": [
    "# 왼쪽 공백 지우기\n",
    "a = \"    hi\"\n",
    "print(\"before :\", a + \"!\")\n",
    "print(\"result : \" + a.lstrip() + \"!\")\n",
    "# 오른쪽 공백 지우기\n",
    "a = \"hi    \"\n",
    "print(\"before :\", a + \"!\")  # before 내용에 오른쪽 공백을 구분하기위해 ! 출력\n",
    "print(\"result : \" + a.rstrip() + \"!\")\n",
    "# 양쪽 공백 지우기\n",
    "a = \"      hi     \"\n",
    "print(\"before :\", a + \"!\")\n",
    "print(\"result : \" + a.strip() + \"!\")"
   ]
  },
  {
   "cell_type": "code",
   "execution_count": 8,
   "metadata": {},
   "outputs": [
    {
     "name": "stdout",
     "output_type": "stream",
     "text": [
      "My Leg is too short\n"
     ]
    }
   ],
   "source": [
    "# 문자열 대체(replace)  : replace() 괄호 안에 나열된 두개의 문자열을이용   \n",
    "# 앞에 문자열을 뒤에 문자열로 대체\n",
    "a = \"Life is too short\"\n",
    "print( a.replace(\"Life\", \"My Leg\") )"
   ]
  },
  {
   "cell_type": "code",
   "execution_count": 9,
   "metadata": {},
   "outputs": [
    {
     "name": "stdout",
     "output_type": "stream",
     "text": [
      "['Life', 'is', 'too', 'short']\n",
      "['a', 'b', 'c', 'd']\n"
     ]
    }
   ],
   "source": [
    "# 문자열 분리(split) : 전달인수가 아무것도 없는 split 도구(함수)는 문자열안에 \n",
    "# 있는 공백을 기준으로 분리\n",
    "a = \"Life is too short\"\n",
    "print( a.split() )\n",
    "# 문자열 분리(split) : 전달인수를 지정하면 그 문자를 기준으로 분리\n",
    "a = \"a:b:c:d\"\n",
    "print( a.split(\":\") )\n",
    "# split의 결과 자료형은 배열과 비슷한 구조를 갖는 \"List\" 이며 이는 다음 \n",
    "# 단원에서 자세히 학습합니다"
   ]
  },
  {
   "cell_type": "markdown",
   "metadata": {},
   "source": [
    "#### 연습 문제\n",
    "* 번호, 이름, 국어점수, 영어점수, 수학점수 를 입력받고\n",
    "* 총점 평균을 계산하여 성적표 형식으로 출력하세요\n",
    "* 평균점수는 소수점 두자리까지만 표시하세요\n",
    "* 문자열 포맷은 %, 또는 {0} 중 편한것을 선택합니다\n",
    "* 입력 받은 이름은 \"홍길동\" 에서 \"홍 길 동\" 으로 변환하여 출력하세요(join 함수이용)"
   ]
  },
  {
   "attachments": {
    "image-2.png": {
     "image/png": "[encoded data removed]"
    }
   },
   "cell_type": "markdown",
   "metadata": {},
   "source": [
    "![image-2.png](attachment:image-2.png)"
   ]
  },
  {
   "cell_type": "code",
   "execution_count": 10,
   "metadata": {},
   "outputs": [
    {
     "name": "stdout",
     "output_type": "stream",
     "text": [
      "번호를 입력하세요 1\n",
      "이름을 입력하세요 홍길동\n",
      "국어점수를 입력하세요 87\n",
      "영어점수를 입력하세요 58\n",
      "수학점수를 입력하세요 96\n",
      "\t\t###성적표###\n",
      "------------------------------------------------------------\n",
      "번호\t성명\t\t국어\t영어\t수학\t총점\t평균\n",
      "------------------------------------------------------------\n",
      "1\t홍 길 동\t87\t58\t96\t241\t80.33\t\n",
      "------------------------------------------------------------\n"
     ]
    }
   ],
   "source": [
    "bunho = int( input(\"번호를 입력하세요 \") )\n",
    "name = input(\"이름을 입력하세요 \")\n",
    "kor = int( input(\"국어점수를 입력하세요 \") )\n",
    "eng = int( input(\"영어점수를 입력하세요 \") )\n",
    "mat = int( input(\"수학점수를 입력하세요 \") )\n",
    "tot = kor + eng + mat\n",
    "ave = tot / 3\n",
    "name = \" \".join(name)\n",
    "print(\"\\t\\t###성적표###\")\n",
    "print(\"-\" * 60)\n",
    "print(\"번호\\t성명\\t\\t국어\\t영어\\t수학\\t총점\\t평균\")\n",
    "print(\"-\" * 60)\n",
    "print(\"{0}\\t{1}\\t{2}\\t{3}\\t{4}\\t{5}\\t{6:0.2f}\\t\".format(bunho,name,kor, \\\n",
    "                                                        eng,mat,tot,ave))\n",
    "print(\"-\" * 60)"
   ]
  },
  {
   "cell_type": "code",
   "execution_count": null,
   "metadata": {},
   "outputs": [],
   "source": []
  }
 ],
 "metadata": {
  "kernelspec": {
   "display_name": "Python 3",
   "language": "python",
   "name": "python3"
  },
  "language_info": {
   "codemirror_mode": {
    "name": "ipython",
    "version": 3
   },
   "file_extension": ".py",
   "mimetype": "text/x-python",
   "name": "python",
   "nbconvert_exporter": "python",
   "pygments_lexer": "ipython3",
   "version": "3.8.5"
  }
 },
 "nbformat": 4,
 "nbformat_minor": 4
}
