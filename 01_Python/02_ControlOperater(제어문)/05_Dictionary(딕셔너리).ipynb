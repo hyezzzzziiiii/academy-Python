{
 "cells": [
  {
   "cell_type": "markdown",
   "metadata": {},
   "source": [
    "### 딕셔너리(Dictionary)\n",
    "* 자바의 hash map 과 비슷한구조\n",
    "* 리스트와 튜플처럼 항목들이 저장되는 구조이되, Key와 Value 로 짝지워진 쌍이 하나의 데이터로 저장됩니다\n",
    "* 키와 밸류로 구성되어 있기때문에, 인덱스와 순서가 없습니다\n",
    "* 키값을 제시하여 밸류값을 저장하거나 얻어내는 구조입니다"
   ]
  },
  {
   "cell_type": "code",
   "execution_count": 1,
   "metadata": {},
   "outputs": [
    {
     "name": "stdout",
     "output_type": "stream",
     "text": [
      "{'name': 'hong', 'phone': '01012341234', 'birth': '901010'}\n"
     ]
    }
   ],
   "source": [
    "# 중괄호 { } 로 묶인 자료이며, ':' 으로 구분하여 왼쪽이 Key,  \n",
    "# 오른쪽이 Value 값으로 사용되어 집니다\n",
    "dic = { 'name':'hong', 'phone':'01012341234', 'birth':'901010'}\n",
    "print(dic)"
   ]
  },
  {
   "cell_type": "code",
   "execution_count": 2,
   "metadata": {},
   "outputs": [
    {
     "name": "stdout",
     "output_type": "stream",
     "text": [
      "{1: 'hi', 2: 'hello', 3: 'how are you'}\n",
      "{'hi': [1, 2, 3], 'hello': [2, 3, 4], 'how are you': (3, 4, 5)}\n"
     ]
    }
   ],
   "source": [
    "# 키값과 밸류값으로 어떤 자료형이든 자유롭게 배치시킬수는  있지만, \n",
    "# 키값으로 리스트나 튜플을 넣을 수 없습니다\n",
    "a = { 1:'hi', 2:'hello', 3:'how are you' }\n",
    "b = { 'hi':[1,2,3], 'hello':[2,3,4] , 'how are you':(3,4,5) }\n",
    "print(a)\n",
    "print(b)"
   ]
  },
  {
   "cell_type": "code",
   "execution_count": 3,
   "metadata": {},
   "outputs": [
    {
     "ename": "TypeError",
     "evalue": "unhashable type: 'list'",
     "output_type": "error",
     "traceback": [
      "\u001b[1;31m---------------------------------------------------------------------------\u001b[0m",
      "\u001b[1;31mTypeError\u001b[0m                                 Traceback (most recent call last)",
      "\u001b[1;32m<ipython-input-3-8fa5644d2bb5>\u001b[0m in \u001b[0;36m<module>\u001b[1;34m\u001b[0m\n\u001b[1;32m----> 1\u001b[1;33m \u001b[0mc\u001b[0m \u001b[1;33m=\u001b[0m \u001b[1;33m{\u001b[0m \u001b[1;33m[\u001b[0m\u001b[1;36m1\u001b[0m\u001b[1;33m,\u001b[0m\u001b[1;36m2\u001b[0m\u001b[1;33m,\u001b[0m\u001b[1;36m3\u001b[0m\u001b[1;33m]\u001b[0m\u001b[1;33m:\u001b[0m\u001b[1;34m'1'\u001b[0m\u001b[1;33m,\u001b[0m \u001b[1;33m[\u001b[0m\u001b[1;36m2\u001b[0m\u001b[1;33m,\u001b[0m\u001b[1;36m3\u001b[0m\u001b[1;33m,\u001b[0m\u001b[1;36m4\u001b[0m\u001b[1;33m]\u001b[0m\u001b[1;33m:\u001b[0m\u001b[1;34m'2'\u001b[0m\u001b[1;33m}\u001b[0m  \u001b[1;31m# 에러\u001b[0m\u001b[1;33m\u001b[0m\u001b[1;33m\u001b[0m\u001b[0m\n\u001b[0m",
      "\u001b[1;31mTypeError\u001b[0m: unhashable type: 'list'"
     ]
    }
   ],
   "source": [
    "c = { [1,2,3]:'1', [2,3,4]:'2'}  # 에러"
   ]
  },
  {
   "cell_type": "markdown",
   "metadata": {},
   "source": [
    "#### 딕셔너리에 데이터 추가 삭제\n",
    "* 딕셔너리의 데이터 추가 삭제는\n",
    "    * 딕셔너이름 = { [키값]:밸류값 }  -> 생성\n",
    "    * 딕셔너이름[키값] = 밸류값  -> 추가"
   ]
  },
  {
   "cell_type": "code",
   "execution_count": 5,
   "metadata": {},
   "outputs": [
    {
     "name": "stdout",
     "output_type": "stream",
     "text": [
      "{2: 'b', 'name': 'HongGildong', 3: [1, 2, 3, 4]}\n"
     ]
    }
   ],
   "source": [
    "# 생성\n",
    "a = { 1:'a'}\n",
    "\n",
    "# 추가 - 인덱스 자리에 key 값을 정하여 넣고, value 값을 '=' 연산자와 \n",
    "# 함께 대입합니다\n",
    "a[2] = 'b'   # key : 2   value : 'b'  \n",
    "a['name'] = 'HongGildong'   # key : 'name'   value : 'HongGildong'\n",
    "a[3] = [1,2,3,4]   # key : 3   value : '[1,2,3,4]'\n",
    "\n",
    "# 삭제\n",
    "del a[1]\n",
    "\n",
    "print(a)"
   ]
  },
  {
   "cell_type": "markdown",
   "metadata": {},
   "source": [
    "#### 딕셔너리 데이터의 사용 및 특징\n",
    "* 키값을 제시하고 밸류 값을 얻어내어 사용합니다\n",
    "* 밸류값은 중복 될수 잇어도 키캆은 중복해서 저장할 수 없습니다\n",
    "* keys() 함수와 values() 함수를 이용하여 키값들과 밸류값들을 따로 얻을 수 있습니 다\n",
    "* items() 라는 함수로 모든 데이터를 얻어내어 사용 가능합니다"
   ]
  },
  {
   "cell_type": "code",
   "execution_count": 6,
   "metadata": {},
   "outputs": [
    {
     "name": "stdout",
     "output_type": "stream",
     "text": [
      "피겨스케이팅\n",
      "야구\n",
      "축구\n",
      "파이썬\n"
     ]
    }
   ],
   "source": [
    "# 키값을 이용해서 value 얻기\n",
    "a = {\"김연아\":\"피겨스케이팅\", \"류현진\":\"야구\", \"박지성\":\"축구\", \n",
    "     \"홍길동\":\"파이썬\"}\n",
    "print(a[\"김연아\"])\n",
    "print(a[\"류현진\"])\n",
    "print(a[\"박지성\"])\n",
    "print(a[\"홍길동\"])"
   ]
  },
  {
   "cell_type": "code",
   "execution_count": 7,
   "metadata": {},
   "outputs": [
    {
     "name": "stdout",
     "output_type": "stream",
     "text": [
      "{1: 'k', 2: 'b', 3: 'c'}\n",
      "{'김연아': '피겨스케이팅', '류현진': '야구', '박지성': '축구', '홍길동': '싱크로나이즈스위밍'}\n"
     ]
    }
   ],
   "source": [
    "# 중복된 키값은 새로운 밸류 값으로 업데이트됩니다\n",
    "b = {1:'a', 2:'b', 3:'c', 1:'k'}\n",
    "print(b)\n",
    "# 중복된 키값으로  데이터를 추가 - 해당 키값의 밸류를 수정하는 효과를 냅니다\n",
    "a[\"홍길동\"] = \"싱크로나이즈스위밍\"\n",
    "print(a)"
   ]
  },
  {
   "cell_type": "code",
   "execution_count": 8,
   "metadata": {},
   "outputs": [
    {
     "name": "stdout",
     "output_type": "stream",
     "text": [
      "dict_keys(['김연아', '류현진', '박지성', '홍길동'])\n",
      "dict_values(['피겨스케이팅', '야구', '축구', '싱크로나이즈스위밍'])\n",
      "dict_items([('김연아', '피겨스케이팅'), ('류현진', '야구'), ('박지성', '축구'), ('홍길동', '싱크로나이즈스위밍')])\n"
     ]
    }
   ],
   "source": [
    "# keys() 함수의 사용\n",
    "print( a.keys() )\n",
    "# values() 함수의 사용\n",
    "print( a.values())\n",
    "# items() 함수의 사용\n",
    "print( a.items() )"
   ]
  },
  {
   "cell_type": "code",
   "execution_count": 9,
   "metadata": {},
   "outputs": [
    {
     "name": "stdout",
     "output_type": "stream",
     "text": [
      "피겨스케이팅  야구  축구  싱크로나이즈스위밍  "
     ]
    }
   ],
   "source": [
    "# keys() 함수의 활용한 반복문\n",
    "# 키값들을 하나씩 하나씩 번갈아가며 k 변수에 전달하며 반복 실행합니다\n",
    "for k in a.keys():     \n",
    "    # 반복 실행이 되는동안 k 변수에 전달된 키값으로 밸류값을 얻어냅니다\n",
    "    print(a[k] , end=\"  \") "
   ]
  },
  {
   "cell_type": "code",
   "execution_count": 1,
   "metadata": {},
   "outputs": [
    {
     "name": "stdout",
     "output_type": "stream",
     "text": [
      "총점 : 259, 평균:86.33\n"
     ]
    }
   ],
   "source": [
    "# 딕셔너리 자료의 키값에 의한 반복 실행\n",
    "score = { 'kor':89, 'eng':87, 'mat':83}\n",
    "sum = 0\n",
    "for i in score.keys():\n",
    "    sum = sum + score[i]\n",
    "# sum = k['kor']+k['eng']+k['mat']\n",
    "print(\"총점 : %d, 평균:%0.2f\" % (sum, sum/3))"
   ]
  },
  {
   "cell_type": "code",
   "execution_count": 2,
   "metadata": {},
   "outputs": [
    {
     "ename": "KeyError",
     "evalue": "'홍길서'",
     "output_type": "error",
     "traceback": [
      "\u001b[1;31m---------------------------------------------------------------------------\u001b[0m",
      "\u001b[1;31mKeyError\u001b[0m                                  Traceback (most recent call last)",
      "\u001b[1;32m<ipython-input-2-248c473ffc60>\u001b[0m in \u001b[0;36m<module>\u001b[1;34m\u001b[0m\n\u001b[0;32m      2\u001b[0m      \"홍길동\":\"파이썬\"}\n\u001b[0;32m      3\u001b[0m \u001b[1;31m# [ ] 를 이용하여 밸류값을 얻고자 할때의 단점 - 해당 키가 없으면 오류\u001b[0m\u001b[1;33m\u001b[0m\u001b[1;33m\u001b[0m\u001b[1;33m\u001b[0m\u001b[0m\n\u001b[1;32m----> 4\u001b[1;33m \u001b[0mprint\u001b[0m\u001b[1;33m(\u001b[0m \u001b[0ma\u001b[0m\u001b[1;33m[\u001b[0m\u001b[1;34m\"홍길서\"\u001b[0m\u001b[1;33m]\u001b[0m \u001b[1;33m)\u001b[0m  \u001b[1;31m# 에러\u001b[0m\u001b[1;33m\u001b[0m\u001b[1;33m\u001b[0m\u001b[0m\n\u001b[0m",
      "\u001b[1;31mKeyError\u001b[0m: '홍길서'"
     ]
    }
   ],
   "source": [
    "a = {\"김연아\":\"피겨스케이팅\", \"류현진\":\"야구\", \"박지성\":\"축구\", \n",
    "     \"홍길동\":\"파이썬\"}\n",
    "# [ ] 를 이용하여 밸류값을 얻고자 할때의 단점 - 해당 키가 없으면 오류\n",
    "print( a[\"홍길서\"] )  # 에러"
   ]
  },
  {
   "cell_type": "code",
   "execution_count": 3,
   "metadata": {},
   "outputs": [
    {
     "name": "stdout",
     "output_type": "stream",
     "text": [
      "파이썬\n",
      "None\n"
     ]
    }
   ],
   "source": [
    "# 찾고자 하는 키가 없어도 오류 없이 None 값 을 얻어 사용하는 함수 .get(키)\n",
    "print( a.get(\"홍길동\") )\n",
    "print( a.get(\"홍길남\") )"
   ]
  },
  {
   "cell_type": "code",
   "execution_count": 4,
   "metadata": {},
   "outputs": [
    {
     "name": "stdout",
     "output_type": "stream",
     "text": [
      "이종격투기\n"
     ]
    }
   ],
   "source": [
    "# 찾고자 하는 키가 없을때 None 이 아니라 내가 지목한 데이터를 표시\n",
    "print( a.get(\"홍길남\", \"이종격투기\"))"
   ]
  },
  {
   "cell_type": "code",
   "execution_count": 5,
   "metadata": {},
   "outputs": [
    {
     "name": "stdout",
     "output_type": "stream",
     "text": [
      "True\n",
      "False\n"
     ]
    }
   ],
   "source": [
    "# 찾고자 하는 키가 있는지 없는지 검사먼저 하고 a[키] 를 사용해도 무방\n",
    "print( \"홍길동\" in a )\n",
    "print( \"홍길북\" in a )"
   ]
  },
  {
   "cell_type": "code",
   "execution_count": null,
   "metadata": {},
   "outputs": [],
   "source": []
  }
 ],
 "metadata": {
  "kernelspec": {
   "display_name": "Python 3",
   "language": "python",
   "name": "python3"
  },
  "language_info": {
   "codemirror_mode": {
    "name": "ipython",
    "version": 3
   },
   "file_extension": ".py",
   "mimetype": "text/x-python",
   "name": "python",
   "nbconvert_exporter": "python",
   "pygments_lexer": "ipython3",
   "version": "3.8.5"
  }
 },
 "nbformat": 4,
 "nbformat_minor": 4
}
