{
 "cells": [
  {
   "cell_type": "markdown",
   "metadata": {},
   "source": [
    "### if 문\n",
    "\n",
    "* 조건(a>10 과 같은 True/False 가 결과인 수식)을 기술하고 조건이 True 이면 해당 문단을 실행 아니면  실행하지 않고 뛰어 넘는 형식의 순서제어문입니다\n",
    "* 타프로그래밍에서 표시하는 실행영역 표시({ })가 따로  없습니다\n",
    "* 파이썬에서는 실행영역의 구분으로 'tab'- 들여쓰기가 사용합니다\n",
    "* if 조건문 :\n",
    "* ....실행문1\n",
    "* ....실행문2\n",
    "* 실행문3\n",
    "* \n",
    "\n",
    "* 실행문 1 ~ 2 이 조건문 참일때 실행할 명령. 거짓일때 1 ~ 2 를 건너뛰고 3실행\n",
    "* 조건문 뒤에는 반드시 \":\" 를 써야합니다\n",
    "* 들여쓰기에 대부분 tab 을 사용하기 때문에 간격이 일정하게 맞춰지긴 하지만 혹 간격이 안맞으면 에러가 발생합니다\n",
    "* 스페이스바를 사용할때 오류가 많이 발생함. 세칸 들여쓰기와 네칸 들여쓰기가 섞여도 오류입니다"
   ]
  },
  {
   "cell_type": "code",
   "execution_count": 1,
   "metadata": {},
   "outputs": [
    {
     "name": "stdout",
     "output_type": "stream",
     "text": [
      "정수입력 : -50\n",
      "음수입니다\n"
     ]
    }
   ],
   "source": [
    "a = int( input(\"정수입력 : \") )\n",
    "a = int(a)\n",
    "if a>0:\n",
    "    print(\"양수입니다\")\n",
    "\n",
    "if a<0:\n",
    "    print(\"음수입니다\")"
   ]
  },
  {
   "cell_type": "code",
   "execution_count": 2,
   "metadata": {},
   "outputs": [
    {
     "name": "stdout",
     "output_type": "stream",
     "text": [
      "정수입력 : 80\n",
      "짝수입니다\n"
     ]
    }
   ],
   "source": [
    "a = input(\"정수입력 : \")\n",
    "a = int(a)\n",
    "b = a % 2\n",
    "if b==0:\n",
    "    print(\"짝수입니다\")\n",
    "\n",
    "if b==1:\n",
    "    print(\"홀수입니다\")"
   ]
  },
  {
   "cell_type": "code",
   "execution_count": 3,
   "metadata": {},
   "outputs": [
    {
     "name": "stdout",
     "output_type": "stream",
     "text": [
      "정수입력 : 0\n",
      "0입니다\n"
     ]
    }
   ],
   "source": [
    "a = int( input(\"정수입력 : \") )\n",
    "a = int(a)\n",
    "if a > 0 :\n",
    "    print(\"양수입니다\")\n",
    "else : \n",
    "    if a < 0 :\n",
    "        print(\"음수입니다\")\n",
    "    else :\n",
    "        print(\"0입니다\")"
   ]
  },
  {
   "cell_type": "code",
   "execution_count": 4,
   "metadata": {},
   "outputs": [
    {
     "name": "stdout",
     "output_type": "stream",
     "text": [
      "정수입력 : 70\n",
      "양수입니다\n"
     ]
    }
   ],
   "source": [
    "a = int( input(\"정수입력 : \") )\n",
    "a = int(a)\n",
    "if a > 0 :\n",
    "    print(\"양수입니다\")\n",
    "elif a<0 :\n",
    "    print(\"음수입니다\")\n",
    "else :\n",
    "    print(\"0입니다\")"
   ]
  },
  {
   "cell_type": "code",
   "execution_count": 5,
   "metadata": {},
   "outputs": [
    {
     "name": "stdout",
     "output_type": "stream",
     "text": [
      "점수입력 : 70\n",
      "C학점\n"
     ]
    }
   ],
   "source": [
    "a = int( input(\"점수입력 : \") )\n",
    "if a>=90 :\n",
    "    print(\"A학점\")\n",
    "elif a>=80 and a<90:    # 80 <= a < 90   에러\n",
    "    print(\"B학점\")\n",
    "elif a>=70 and a<80:\n",
    "    print(\"C학점\")\n",
    "elif a>=60 and a<70:\n",
    "    print(\"D학점\")\n",
    "else:\n",
    "    print(\"F학점\")"
   ]
  },
  {
   "cell_type": "code",
   "execution_count": 7,
   "metadata": {},
   "outputs": [
    {
     "name": "stdout",
     "output_type": "stream",
     "text": [
      "점수입력 : 85\n",
      "B학점\n"
     ]
    }
   ],
   "source": [
    "a = int( input(\"점수입력 : \") )\n",
    "if a>=90 :\n",
    "    print(\"A학점\")\n",
    "elif a>=80:    # 80 <= a < 90   에러\n",
    "    print(\"B학점\")\n",
    "elif a>=70:\n",
    "    print(\"C학점\")\n",
    "elif a>=60:\n",
    "    print(\"D학점\")\n",
    "else:\n",
    "    print(\"F학점\")"
   ]
  },
  {
   "cell_type": "markdown",
   "metadata": {},
   "source": [
    "#### 연습문제1\n",
    "* 출생년도를 입력받아서  나이를 계산하고\n",
    "* 1~12 세 : 어린이\n",
    "* 13~19 세 : 청소년\n",
    "* 20~35 세 : 청년\n",
    "* 36~59 세 : 중년\n",
    "* 60~ : 노년\n",
    "* 나이계산 : 2020년 - 출생년도 + 1"
   ]
  },
  {
   "cell_type": "code",
   "execution_count": 9,
   "metadata": {},
   "outputs": [
    {
     "name": "stdout",
     "output_type": "stream",
     "text": [
      "출생 년도 입력 : 1999\n",
      "나이 :  22\n",
      "청년\n"
     ]
    }
   ],
   "source": [
    "year = int( input(\"출생 년도 입력 : \") )\n",
    "a = 2020- year +1\n",
    "print(\"나이 : \" , a)\n",
    "if a>=60 :\n",
    "    print(\"노년\")\n",
    "elif a>=36:\n",
    "    print(\"중년\")\n",
    "elif a>=20:\n",
    "    print(\"청년\")\n",
    "elif a>=13:\n",
    "    print(\"청소년\")\n",
    "else:\n",
    "    print(\"어린이\")"
   ]
  },
  {
   "cell_type": "markdown",
   "metadata": {},
   "source": [
    "#### 연습문제2\n",
    "* 직급(사원, 주임, 대리, 과장, 부장)과  기본급을 입력 받고,\n",
    "* 상여금을 계산하여, 기본급 + 상여금 을 출력하세요\n",
    "* 상여금 비율--------\n",
    "* 사원 : 기본급의 50%\n",
    "* 주임 : 기본급의 60%\n",
    "* 대리 : 기본급의 70%\n",
    "* 과장 : 기본급의 80%\n",
    "* 부장 : 기본급의 90%"
   ]
  },
  {
   "cell_type": "code",
   "execution_count": 10,
   "metadata": {},
   "outputs": [
    {
     "name": "stdout",
     "output_type": "stream",
     "text": [
      "직급 입력 : 과장\n",
      "기본급 입력 : 500000\n",
      "총지급액 :  900000.0\n"
     ]
    }
   ],
   "source": [
    "a = input(\"직급 입력 : \")\n",
    "b = int(input(\"기본급 입력 : \"))\n",
    "if a==\"사원\" :\n",
    "    c = 0.5\n",
    "elif a==\"주임\":\n",
    "    c = 0.6\n",
    "elif a==\"대리\":\n",
    "    c = 0.7\n",
    "elif a==\"과장\":\n",
    "    c = 0.8\n",
    "else:\n",
    "    c = 0.9\n",
    "d = b + b*c   # 총지급액 계산\n",
    "print(\"총지급액 : \" , d)"
   ]
  },
  {
   "cell_type": "markdown",
   "metadata": {},
   "source": [
    "### 연습문제 3\n",
    "* 2021년 1월 1일은 금요일입니다\n",
    "* 2021년 한해서 월과 일을 입력 받고, 그날짜가 무슨 요일인지 출력합니다\n",
    "    * 2021년 1월 1일부터 입력한 날짜까지 몇일이 지났나 계산하고 이를 7로 나눈 나머지를 구하고 그값이 1이면 금요일 로 해서 상대적 출력을 if와 elif안에서 실행되게 합니다\n",
    "    * 입력한 날짜까지 지나온 날수를 계산하는 방법\n",
    "        * 입력한 월의 바로 전달까지 각 월의 날짜들을 모두 더합니다\n",
    "        * 그 결과에 입력한 일 을 더합니다"
   ]
  },
  {
   "cell_type": "code",
   "execution_count": 12,
   "metadata": {},
   "outputs": [
    {
     "name": "stdout",
     "output_type": "stream",
     "text": [
      "월 입력 : 2\n",
      "일 입력 : 15\n",
      "월요일입니다\n"
     ]
    }
   ],
   "source": [
    "month = int( input(\"월 입력 : \") )\n",
    "day = int( input(\"일 입력 : \") )\n",
    "\n",
    "if month==1: total = 0\n",
    "elif month==2: total = 31\n",
    "elif month==3: total = 31+28\n",
    "elif month==4: total = 31+28+31\n",
    "elif month==5: total = 31+28+31+30\n",
    "elif month==6: total = 31+28+31+30+31\n",
    "elif month==7: total = 31+28+31+30+31+30\n",
    "elif month==8: total = 31+28+31+30+31+30+31\n",
    "elif month==9: total = 31+28+31+30+31+30+31+31\n",
    "elif month==10: total = 31+28+31+30+31+30+31+31+30\n",
    "elif month==11: total = 31+28+31+30+31+30+31+31+30+31\n",
    "elif month==12: total = 31+28+31+30+31+30+31+31+30+31+30\n",
    "# 조건에 걸린 명령이 한개만 있다면 위와 같이 if 또는 elif 와 나란히 표기가\n",
    "# 가능합니다\n",
    "total = total + day\n",
    "n = total % 7\n",
    "if n==1: print(\"금요일입니다\")\n",
    "elif n==2: print(\"토요일입니다\")\n",
    "elif n==3: print(\"일요일입니다\")\n",
    "elif n==4: print(\"월요일입니다\")\n",
    "elif n==5: print(\"화요일입니다\")\n",
    "elif n==6: print(\"수요일입니다\")\n",
    "elif n==0: print(\"목요일입니다\")"
   ]
  },
  {
   "cell_type": "markdown",
   "metadata": {},
   "source": [
    "#### 연습문제 4\n",
    "* 년도를 입력받고, 그 해가 윤년인지 평년인지 출력하세요\n",
    "* 윤년의 조건\n",
    "    * 4의 배수이면서, 100의 배수가 아니거나, 400의 배수인 해"
   ]
  },
  {
   "cell_type": "code",
   "execution_count": 13,
   "metadata": {},
   "outputs": [
    {
     "name": "stdout",
     "output_type": "stream",
     "text": [
      "년도를 입력하세요2020\n",
      "윤년입니다\n"
     ]
    }
   ],
   "source": [
    "year = int( input(\"년도를 입력하세요\") )\n",
    "a = year % 4\n",
    "b = year % 100\n",
    "c = year % 400\n",
    "# 자바에 있던 연산우선순위( 산술연산 > 관계연산 > 논리연산 )가 없기때문에 \n",
    "# 아래와 같이 연산하려면 먼저 계산되어야할 관계연산에 반드시 괄호를 씁니다\n",
    "# 곱셈나눗셈 보다 덧셈 뺄셈이 연산순위가 높은 점은 그데로 유지됩니다.\n",
    "if (a==0) and (not b==0) or (c==0):\n",
    "    print(\"윤년입니다\")\n",
    "else:\n",
    "    print(\"평년입니다\")"
   ]
  },
  {
   "cell_type": "code",
   "execution_count": null,
   "metadata": {},
   "outputs": [],
   "source": []
  }
 ],
 "metadata": {
  "kernelspec": {
   "display_name": "Python 3",
   "language": "python",
   "name": "python3"
  },
  "language_info": {
   "codemirror_mode": {
    "name": "ipython",
    "version": 3
   },
   "file_extension": ".py",
   "mimetype": "text/x-python",
   "name": "python",
   "nbconvert_exporter": "python",
   "pygments_lexer": "ipython3",
   "version": "3.8.5"
  }
 },
 "nbformat": 4,
 "nbformat_minor": 4
}
