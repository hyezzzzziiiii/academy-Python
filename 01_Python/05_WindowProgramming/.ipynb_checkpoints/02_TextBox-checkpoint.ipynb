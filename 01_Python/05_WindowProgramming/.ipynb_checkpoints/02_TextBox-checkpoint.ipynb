{
 "cells": [
  {
   "cell_type": "code",
   "execution_count": 44,
   "metadata": {},
   "outputs": [],
   "source": [
    "from tkinter import *\n",
    "from tkinter import ttk    # 텍스트 상자를 사용하기위한 모듈\n",
    "from tkinter import messagebox"
   ]
  },
  {
   "cell_type": "code",
   "execution_count": 45,
   "metadata": {},
   "outputs": [],
   "source": [
    "def btn1Click(text):\n",
    "    messagebox.showinfo(\"Button Clicked\", text)\n",
    "# \"Button Clicked\" : 메세지 상자의 타이틀\n",
    "# str1.get() : 텍스트 상자에 연결된 변수값을 return  받습니다\n",
    "\n",
    "def btn2Click():\n",
    "    textbox.delete(0, \"\")\n",
    "    textbox.insert(0, \"안녕하세요\")"
   ]
  },
  {
   "cell_type": "code",
   "execution_count": 46,
   "metadata": {},
   "outputs": [],
   "source": [
    "main = Tk()\n",
    "main.title(\"텍스트 상자의 사용\")\n",
    "main.geometry()\n",
    "label = Label(main, text=\"텍스트 상자에 입력후 버튼1을 클릭하세요\")\n",
    "label.config(font=('굴림', 18))\n",
    "label.grid(row=0, column=0, columnspan=4)"
   ]
  },
  {
   "cell_type": "markdown",
   "metadata": {},
   "source": [
    " * 텍스트 상자하나와 버튼 하나를 만들고 텍스트상자에 키보드로 입력한 텍스트를 버튼이 클릭될때 메세지 상자로 표현합니다"
   ]
  },
  {
   "cell_type": "code",
   "execution_count": 47,
   "metadata": {},
   "outputs": [],
   "source": [
    "# 텍스트 상자의 생성\n",
    "# 텍스트 상자는 일반적으로 텍스트 변수하나를 연결하고 텍스트상자에 담긴 내용을\n",
    "# 연결된 변수에 저장합니다\n",
    "\n",
    "#  문자형 변수 선언 : 값은 넣지 않고, 자료형만 지정하여 변수를 만들어 둘때 \n",
    "# 아래와 같이 생성합니다\n",
    "str1 = StringVar()   \n",
    "\n",
    "# 텍스트상자 생성 : textbox 는 컨트롤 변수(레퍼런스 변수)\n",
    "textbox = ttk.Entry(main, width=20, textvariable=str1)\n",
    "# 폰트와 위치\n",
    "textbox.config(font=('굴림', 18))\n",
    "textbox.grid(row=1,column=0,columnspan=2)\n",
    "\n",
    "# 버튼 생성\n",
    "btn1 = Button(main, text='메세지상자로', command=lambda:btn1Click(str1.get()))\n",
    "btn1.config( font=('굴림', 15) )\n",
    "btn1.grid(row=1, column=2, columnspan=2 )\n",
    "\n",
    "btn2 = Button(main, text='기존 텍스트 삭제 & \"안녕하세요\"삽입', \\\n",
    "                              command=lambda:btn2Click())\n",
    "btn2.config( font=('굴림', 13) )\n",
    "btn2.grid(row=2, column=0, columnspan=4 )"
   ]
  },
  {
   "cell_type": "code",
   "execution_count": 48,
   "metadata": {},
   "outputs": [],
   "source": [
    "main.mainloop()"
   ]
  },
  {
   "cell_type": "code",
   "execution_count": null,
   "metadata": {},
   "outputs": [],
   "source": []
  },
  {
   "cell_type": "code",
   "execution_count": 53,
   "metadata": {},
   "outputs": [],
   "source": [
    "from tkinter import *\n",
    "from tkinter import ttk\n",
    "from tkinter import messagebox"
   ]
  },
  {
   "cell_type": "code",
   "execution_count": 54,
   "metadata": {},
   "outputs": [],
   "source": [
    "# pass : 함수안에 명령없이 함수의 모습만 갖춰놓아야할때 표기합니다\n",
    "def btn1Click( text ) :\n",
    "    if text == \"\" :\n",
    "        messagebox.showinfo(\"textbox1 is empty\", \"텍스트1이 비었습니다\")\n",
    "    else :\n",
    "        textbox1.delete(0, \"\")\n",
    "        textbox2.delete(0, \"\")\n",
    "        textbox2.insert(0, text)\n",
    "\n",
    "def btn2Click( text ) :\n",
    "    if text == \"\" :\n",
    "        messagebox.showinfo(\"textbox2 is empty\", \"텍스트2가 비었습니다\")\n",
    "    else :\n",
    "        textbox1.delete(0, \"\")\n",
    "        textbox2.delete(0, \"\")\n",
    "        textbox1.insert(0, text)"
   ]
  },
  {
   "cell_type": "code",
   "execution_count": 55,
   "metadata": {},
   "outputs": [],
   "source": [
    "main = Tk()\n",
    "main.title(\"텍스트 상자의 사용\")\n",
    "main.geometry()\n",
    "label = Label(main, text=\"클릭된 버튼에 따라 텍스트가 이동합니다\")\n",
    "label.config(font=('굴림', 18))\n",
    "label.grid(row=0, column=0, columnspan=4)\n",
    "\n",
    "str1 = StringVar()\n",
    "textbox1 = ttk.Entry(main, width=20, textvariable=str1)\n",
    "textbox1.config(font=('굴림', 18))\n",
    "textbox1.grid(row=1,column=0,columnspan=1)\n",
    "\n",
    "btn1 = Button(main, text='->', width=10, command=lambda:btn1Click(  str1.get() ))\n",
    "btn1.config(font=('굴림', 18))\n",
    "btn1.grid(row=1, column=1, columnspan=1 )\n",
    "\n",
    "str2 = StringVar()\n",
    "textbox2 = ttk.Entry(main, width=20, textvariable=str2)\n",
    "textbox2.config(font=('굴림', 18))\n",
    "textbox2.grid(row=1,column=3,columnspan=1)\n",
    "\n",
    "btn2 = Button(main, text='<-', width=10, command=lambda:btn2Click( str2.get() ))\n",
    "btn2.config(font=('굴림', 18))\n",
    "btn2.grid(row=1, column=2, columnspan=1 )\n"
   ]
  },
  {
   "cell_type": "code",
   "execution_count": 56,
   "metadata": {},
   "outputs": [],
   "source": [
    "main.mainloop()"
   ]
  },
  {
   "cell_type": "code",
   "execution_count": null,
   "metadata": {},
   "outputs": [],
   "source": []
  }
 ],
 "metadata": {
  "kernelspec": {
   "display_name": "Python 3",
   "language": "python",
   "name": "python3"
  },
  "language_info": {
   "codemirror_mode": {
    "name": "ipython",
    "version": 3
   },
   "file_extension": ".py",
   "mimetype": "text/x-python",
   "name": "python",
   "nbconvert_exporter": "python",
   "pygments_lexer": "ipython3",
   "version": "3.8.5"
  }
 },
 "nbformat": 4,
 "nbformat_minor": 4
}
